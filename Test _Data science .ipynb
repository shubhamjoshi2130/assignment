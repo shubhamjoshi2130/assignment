{
 "cells": [
  {
   "cell_type": "markdown",
   "metadata": {},
   "source": [
    "# Frontdoor Candidate Questions\n",
    "\n",
    "\n",
    "Congratulations on making it to this stage of the interview process!  For the next step of your candidacy, you will be asked to solve five unique problems. Each question focuses on a distinct data science skill such as data access, data transformation, hypothesis testing, model evaluation, and lastly, you will be asked to interpret a report and make a recommendation. Please use Python unless specified otherwise.  All code and derived data must be included in your final submission. Document formats such as `.ipynb`, `.html`, and `.docx` are acceptable for submission. \n",
    "\n",
    "We will attempt to run your code, so if it references obscure libraries, please indicate this as well as how to locate/install them.  You need to be sure you do what the core task indicates; but, you should feel free to use novel and ingenious approaches. We also expect that the challenge should *not take more than two hours* to complete.\n",
    "\n",
    "In evaluating your submission we will be considering the following:\n",
    "\n",
    "1. **Completeness** and **correctness** of the project and codebase.\n",
    "2. **Robustness** and **clarity** of the documentation included with the submission \n",
    "3. **Language selection** and **library dependency** appropriateness.\n",
    "4. **Sophistication** and **ingenuity** in thinking and approach.\n",
    "\n",
    "Each question also contains a bonus component. The bonus questions are entirely optional, and a few-sentence summary is sufficient.  \n",
    "\n",
    "*Hint:* Clarity means articulating your assumptions, your approach, and your, results cleanly and concisely.  *Overly verbose code and responses can be detrimental to your score*.\n",
    "\n",
    "When you have completed the challenge, email your results to the email address you received this packet from.\n",
    "\n",
    ">**Notice of Confidentiality:** This document, scenario, and data are proprietary to Frontdoor, Inc. And cannot be copied or distributed without the expressed written permission by Frontdoor, Inc. Failure to adhere to this notice of confidentiality will result in immediate termination of the candidate's application."
   ]
  },
  {
   "cell_type": "markdown",
   "metadata": {},
   "source": [
    "## Question 1: Data Transformation\n",
    "\n",
    "You may often need to 'wrangle' data into a representation that is better suited for a particular project.  This next question will test your ability to clean and order data. \n",
    "\n",
    "You have been presented with two dataframes: \n",
    "\n",
    "#### Dataframe A: Brands Serviced\n",
    "In the home warranty business, dispatches are created when a contractor is selected to fulfill a home warranty claim.  \n",
    "\n",
    "This dataframe contains two columns. The first one is a unique dispatch ID represented by an integer, the second is a string containing a collection of appliance brands that were serviced by the contractor during the dispatch.\n",
    "\n",
    "| dispatch_id | brands             |\n",
    "|-----------|------------------|\n",
    "| 100100     | Kenmore, GE      |\n",
    "| 100101     | Whirpool    |\n",
    "| 100102     | Viking      |\n",
    "| 100103     | GE      |\n",
    "| 100104     | GE      |\n",
    "| 100105     | Viking, Maytag     |\n",
    "| 100106     | Maytag      |\n",
    "| 100107     | Kenmore, GE, Maytag      |\n",
    "| 100108     | Viking      |\n",
    "| 100109     | GE      |\n",
    "...\n",
    "\n",
    "\n",
    "#### Dataframe B: Dispatch Assignments\n",
    "The second dataframe contains two columns as well; the first one is a string that contains a customer name, the second is an integer that contains a dispatch ID.  The dispatch IDs from column two are the same as the dispatch IDs from column one of dataframe A.\n",
    "\n",
    "| contractor | dispatch_id |\n",
    "|----------|---------|\n",
    "| A        | 100100     |\n",
    "| A        | 100101     |\n",
    "| B        | 100102      |\n",
    "| C        | 100103      |\n",
    "| C        | 100104      |\n",
    "| B        | 100105      |\n",
    "| A        | 100106      |\n",
    "| C        | 100107      |\n",
    "| B        | 100108      |\n",
    "| A        | 100109      |\n",
    "\n",
    "You are asked to write a function that receives two input data frames (Dataframe_A, Dataframe_B)and returns a dataframe with the following format, where the contents of cells represent the count of each brand type serviced by a respective contractor.  This function should accommodate the occurrence of new brand types that may be introduced to the data set over time (e.g., SmartHomeTech Appliances).\n",
    "\n",
    "| Contractor | GE   | Kenmore    | Whirpool  | ... |\n",
    "|----------|---------|---------|--------|-------------|\n",
    "| A        | ?       | ?       | ?      | ?           |\n",
    "| B        | ?       | ?       | ?      | ?           |\n",
    "| C        | ?       | ?       | ?      | ?           |\n",
    "\n",
    "\n",
    "After you have completed your code, evaluate it for performance bottlenecks and describe how you would improve the code.  \n",
    "\n",
    "*Bonus Question:* If the two starting tables were in a relational database or Hadoop cluster and each had 100 million rows, how might your approach change?"
   ]
  },
  {
   "cell_type": "code",
   "execution_count": 1,
   "metadata": {},
   "outputs": [
    {
     "name": "stdout",
     "output_type": "stream",
     "text": [
      "Requirement already satisfied: tabulate in c:\\programdata\\anaconda3\\lib\\site-packages (0.8.9)\n",
      "Requirement already satisfied: pandasql in c:\\programdata\\anaconda3\\lib\\site-packages (0.7.3)\n",
      "Requirement already satisfied: numpy in c:\\programdata\\anaconda3\\lib\\site-packages (from pandasql) (1.19.2)\n",
      "Requirement already satisfied: sqlalchemy in c:\\programdata\\anaconda3\\lib\\site-packages (from pandasql) (1.3.20)\n",
      "Requirement already satisfied: pandas in c:\\programdata\\anaconda3\\lib\\site-packages (from pandasql) (1.1.3)\n",
      "Requirement already satisfied: pytz>=2017.2 in c:\\programdata\\anaconda3\\lib\\site-packages (from pandas->pandasql) (2020.1)\n",
      "Requirement already satisfied: python-dateutil>=2.7.3 in c:\\users\\sneha\\appdata\\roaming\\python\\python38\\site-packages (from pandas->pandasql) (2.8.1)\n",
      "Requirement already satisfied: six>=1.5 in c:\\users\\sneha\\appdata\\roaming\\python\\python38\\site-packages (from python-dateutil>=2.7.3->pandas->pandasql) (1.15.0)\n",
      "Requirement already satisfied: tqdm in c:\\programdata\\anaconda3\\lib\\site-packages (4.50.2)\n"
     ]
    }
   ],
   "source": [
    "# Library to pring formatted dataframes\n",
    "!pip install tabulate\n",
    "\n",
    "# Library to run sql on dataframe\n",
    "!pip install pandasql\n",
    "\n",
    "# tqdm library is used to display progress bars\n",
    "!pip install tqdm"
   ]
  },
  {
   "cell_type": "code",
   "execution_count": 2,
   "metadata": {},
   "outputs": [],
   "source": [
    "import pandas as pd\n",
    "from tabulate import tabulate\n",
    "\n",
    "tableA = [\n",
    "    (100100, \"Kenmore, GE\"),\n",
    "    (100101, \"Whirpool\"),\n",
    "    (100103, \"Viking\"),\n",
    "    (100104, \"GE\"),\n",
    "    (100105, \"GE\"),\n",
    "    (100106, \"Viking, Maytag\"),\n",
    "    (100107, \"Kenmore, GE, Maytag\"),\n",
    "    (100108, \"Viking\"),\n",
    "    (100109, \"GE\")\n",
    "]\n",
    "labels = [\"dispatch_id\", \"brands\"]\n",
    "dfA = pd.DataFrame.from_records(tableA, columns=labels)\n",
    "\n",
    "tableB = [\n",
    "    (\"A\", 100100),\n",
    "    (\"A\", 100101),\n",
    "    (\"B\", 100102),\n",
    "    (\"C\", 100103),\n",
    "    (\"C\", 100104),\n",
    "    (\"B\", 100105),\n",
    "    (\"A\", 100106),\n",
    "    (\"C\", 100107),\n",
    "    (\"B\", 100108),\n",
    "    (\"A\", 100109),\n",
    "]\n",
    "labels = [\"contractor\", \"dispatch_id\"]\n",
    "dfB = pd.DataFrame.from_records(tableB, columns=labels)"
   ]
  },
  {
   "cell_type": "markdown",
   "metadata": {},
   "source": [
    "<h3> Question 1; Part 1: Implementing function:-</h3>"
   ]
  },
  {
   "cell_type": "code",
   "execution_count": 3,
   "metadata": {},
   "outputs": [],
   "source": [
    "# Assumption:-\n",
    "# 1] dispact_id:100102 is present in 'tableB' ,but not present in 'tableA', so we will assume that the data for the same\n",
    "#    is missing in 'tableA'.We will print the same as warinings and also return the same as missing list\n",
    "\n",
    "# Explode comma seperated brands , and get them in a seperate column\n",
    "\n",
    "def get_contractor_brand_mapping(dfA,dfB,return_missing=False):\n",
    "    '''\n",
    "        This function takes in 3 arguments as:-\n",
    "        dfA: dataframe containing Brands Serviced information with columns [\"dispatch_id\", \"brands\"]\n",
    "        dfB: dataframe containing Dispatch Assignments information with columns [\"contractor\", \"dispatch_id\"]\n",
    "        return_missing : weather to return dispath_id, missing in dfA but present in dfB\n",
    "        \n",
    "        returns:-\n",
    "        1] Sparse count matrix for contractor to brand \n",
    "        2] If return_missing=True it also returns dataframe containing contractor,dispath_id, \n",
    "           missing in dfA but present in dfB\n",
    "    '''    \n",
    "    \n",
    "    # Check for missing dispatch_id and display a warining\n",
    "    missing_dpid=dfB.loc[~dfB.dispatch_id.isin(dfA['dispatch_id']),:]\n",
    "    if len(missing_dpid)>0:\n",
    "        print('!!!!!! Warning the following dispatch_ids are not present in Beand Sercviced dataframe :- \\n',\n",
    "               tabulate(missing_dpid,headers='keys', tablefmt='psql',showindex=False))\n",
    "    \n",
    "    # Step1: Convert brands from string to list and explod to get single brand in single column\n",
    "    brands_lst=dfA['brands'].apply(lambda x:x.split(',') if x!=None else x)   \n",
    "    dfA=pd.DataFrame({'dispatch_id':dfA['dispatch_id'],'brands':brands_lst}).explode('brands')\n",
    "    \n",
    "    # Step2: Join dfA and dfB on 'dispatch_id'\n",
    "    df_merged=pd.merge(dfA,dfB,on='dispatch_id',how='left')\n",
    "    \n",
    "    # Step3: Call pivot table get the Sparse count matrix for contractor to brand\n",
    "    final_df=pd.pivot_table(df_merged, \n",
    "                            index='contractor',\n",
    "                            values='dispatch_id', \n",
    "                            columns='brands', \n",
    "                            aggfunc='count',\n",
    "                            fill_value=0)\n",
    "    \n",
    "    # Step3: Return the result\n",
    "    if return_missing:\n",
    "            return final_df.reset_index().rename_axis(None, axis=1),missing_dpid\n",
    "    return final_df.reset_index().rename_axis(None, axis=1)\n",
    "    "
   ]
  },
  {
   "cell_type": "markdown",
   "metadata": {},
   "source": [
    "<h3> Question 1; Part 2: Evaluate performance:-</h3>"
   ]
  },
  {
   "cell_type": "markdown",
   "metadata": {},
   "source": [
    "Lets check :- <br>\n",
    "    1] The time for execution<br>\n",
    "    2] And memory consumed by generated dataframe<br>"
   ]
  },
  {
   "cell_type": "code",
   "execution_count": 4,
   "metadata": {},
   "outputs": [
    {
     "name": "stdout",
     "output_type": "stream",
     "text": [
      "!!!!!! Warning the following dispatch_ids are not present in Beand Sercviced dataframe :- \n",
      " +--------------+---------------+\n",
      "| contractor   |   dispatch_id |\n",
      "|--------------+---------------|\n",
      "| B            |        100102 |\n",
      "+--------------+---------------+\n",
      "\n",
      "1] Time taken for Code execution: 0.024 (sec)\n",
      "2] Memory consumed by returned dataframe: 446 (bytes)\n"
     ]
    }
   ],
   "source": [
    "import time\n",
    "\n",
    "start=time.time()\n",
    "df=get_contractor_brand_mapping(dfA,dfB)\n",
    "end=time.time()-start\n",
    "print('\\n1] Time taken for Code execution:',round(end,3),'(sec)')\n",
    "print('2] Memory consumed by returned dataframe:',df.memory_usage(deep=True).sum(),'(bytes)')"
   ]
  },
  {
   "cell_type": "code",
   "execution_count": 5,
   "metadata": {},
   "outputs": [
    {
     "name": "stdout",
     "output_type": "stream",
     "text": [
      "+----------+--------------+---------------+\n",
      "| brands   | contractor   |   dispatch_id |\n",
      "|----------+--------------+---------------|\n",
      "| GE       | A            |             2 |\n",
      "| GE       | B            |             1 |\n",
      "| GE       | C            |             2 |\n",
      "| Kenmore  | A            |             1 |\n",
      "| Kenmore  | C            |             1 |\n",
      "| Maytag   | A            |             1 |\n",
      "| Maytag   | C            |             1 |\n",
      "| Viking   | A            |             1 |\n",
      "| Viking   | B            |             1 |\n",
      "| Viking   | C            |             1 |\n",
      "| Whirpool | A            |             1 |\n",
      "+----------+--------------+---------------+\n",
      "\n",
      "1] Time taken for Code execution: 0.009 (sec)\n",
      "2] Memory consumed by returned dataframe: 1499 (bytes)\n"
     ]
    }
   ],
   "source": [
    "start=time.time()\n",
    "# Step1: Convert brands from string to list and explod to get single brand in single column\n",
    "brands_lst=dfA['brands'].apply(lambda x:[y.strip() for y in x.split(',')] if x!=None else x)\n",
    "dfA_exl=pd.DataFrame({'dispatch_id':dfA['dispatch_id'],'brands':brands_lst}).explode('brands')\n",
    "\n",
    "# Step2: Join dfA and dfB on 'dispatch_id'\n",
    "df_merged=pd.merge(dfA_exl,dfB,on='dispatch_id',how='left')\n",
    "\n",
    "df_grp=df_merged.groupby(['brands','contractor'],as_index=False).count()\n",
    "print(tabulate(df_grp,headers='keys', tablefmt='psql',showindex=False))\n",
    "end=time.time()-start\n",
    "print('\\n1] Time taken for Code execution:',round(end,3),'(sec)')\n",
    "print('2] Memory consumed by returned dataframe:',df_grp.memory_usage(deep=True).sum(),'(bytes)')"
   ]
  },
  {
   "cell_type": "markdown",
   "metadata": {},
   "source": [
    "The pivote table operation used in the above code consumes more time.\n",
    "Also since the returned dataframe is a sparse matrix, it consumes more memory, this is because most of the values are '0' as highlighted in red below , but still consumes unnecessary memory space, if the data is in millions.\n",
    "\n",
    "<table>\n",
    "<thead>\n",
    "<tr><th>contractor  </th><th style=\"text-align: right;\">   GE</th><th style=\"text-align: right;\">   Maytag</th><th style=\"text-align: right;\">  GE</th><th style=\"text-align: right;\">  Kenmore</th><th style=\"text-align: right;\">  Viking</th><th style=\"text-align: right;\">  Whirpool</th></tr>\n",
    "</thead>\n",
    "<tbody>\n",
    "<tr><td>A           </td><td style=\"text-align: right;\">    1</td><td style=\"text-align: right;\">        1</td><td style=\"text-align: right;\">   1</td><td style=\"text-align: right;\">        1</td><td style=\"text-align: right;\">       1</td><td style=\"text-align: right;\">         1</td></tr>\n",
    "<tr><td>B           </td><td style=\"text-align: right;color:red\">    0</td><td style=\"text-align: right;color:red\">        0</td><td style=\"text-align: right;\">   1</td><td style=\"text-align: right;color:red\">        0</td><td style=\"text-align: right;\">       1</td><td style=\"text-align: right;color:red\">         0</td></tr>\n",
    "<tr><td>C           </td><td style=\"text-align: right;\">    1</td><td style=\"text-align: right;\">        1</td><td style=\"text-align: right;\">   1</td><td style=\"text-align: right;\">        1</td><td style=\"text-align: right;\">       1</td><td style=\"text-align: right;color:red\">         0</td></tr>\n",
    "</tbody>\n",
    "</table>\n",
    "\n",
    "To overcome this we may convert the same to compressed row format, which:-<br> \n",
    "1] Since string storage We assing a unique id to each brand and contractor, and store them in the table<br>\n",
    "2] Rather than storing it in a Sparse matrix format we can store it in row format. <br>\n",
    "<table>\n",
    "<thead>\n",
    "<tr><th>contractor_id  </th><th style=\"text-align: right;\">   Brand_id</th><th style=\"text-align: right;\">   service_count</th></tr>\n",
    "</thead>\n",
    "<tbody>\n",
    "    <tr><td>1</td><td>1</td><td>1</td></tr>\n",
    "    <tr><td>3</td><td>2</td><td>2</td></tr>    \n",
    "    <tr><td>...</td><td>...</td><td>...</td></tr>\n",
    "</tbody>\n",
    "</table>    \n",
    "Where:-<br>\n",
    "\n",
    "1] Brand_id to Brand can be stored in a table:-\n",
    "<table>\n",
    "<thead>\n",
    "<tr><th>Brand_id  </th><th style=\"text-align: right;\">   Brand</th></tr>\n",
    "</thead>\n",
    "<tbody>\n",
    "    <tr><td>1</td><td>GE</td></tr>\n",
    "    <tr><td>2</td><td>Maytag</td></tr>   \n",
    "    <tr><td>...</td><td>...</td></tr>\n",
    "</tbody>\n",
    "</table>\n",
    "\n",
    "<br>\n",
    "2] contractor_id to contractor can be stored in another table:-\n",
    "<table>\n",
    "<thead>\n",
    "<tr><th>contractor_id  </th><th style=\"text-align: right;\">   contractor</th></tr>\n",
    "</thead>\n",
    "<tbody>\n",
    "    <tr><td>1</td><td>A</td></tr>\n",
    "    <tr><td>3</td><td>C</td></tr>    \n",
    "    <tr><td>...</td><td>...</td></tr>\n",
    "</tbody>\n",
    "</table> "
   ]
  },
  {
   "cell_type": "markdown",
   "metadata": {},
   "source": [
    "<h3> Question 1; Part 3 (Bonus): Execution in Bigdata Env:-</h3>"
   ]
  },
  {
   "cell_type": "markdown",
   "metadata": {},
   "source": [
    "<b>Answer:-</b><br>\n",
    "    1] In Big data environment, I would use sparkSQl or HiveSQL to execute the above query. <br>\n",
    "    2] I would use split to convert 'brands' list to array and use lateral view explode to get it in rows. <br>\n",
    "    3] I would use various optimization techniques like map side join. <br>"
   ]
  },
  {
   "cell_type": "markdown",
   "metadata": {},
   "source": [
    "## Question 2: Data Access\n",
    "\n",
    "An often encountered step to data pre-processing usually involves querying data that exists within a relational database system. Typically such data may be transactional in nature, and as a result, it is optimized for a relational data model. While this format is critical for performance, efficient storage, and quick updates, it is often not suitable for data science work. In this next question, you will be asked to access data from a fictitious relational database and perform query operations to get it into a suitable format for analysis. The required output for this question is the correct SQL code and query results, you may use any dialect of SQL you wish, but submissions in any other language will be considered incorrect.\n",
    "\n",
    "You have been granted access to a database that contains two tables, `Contractor_Invoice_Detail` and `Item_Detail`, that are stored in a relational format.  `Contractor_Invoice_Detail` contains transactional information and possesses the following schema:\n",
    "\n",
    "#### Table Contractor_Invoice_Detail Schema\n",
    "\n",
    "> **invoice_id:** The unique id for invoice submitted by a contractor after servicing a customer claim.\n",
    ">\n",
    "> **invoice_line:** A unique id for each item associated with an invoice (e.g., both a refrigerator and a dishwasher may show up on the invoice)\n",
    ">\n",
    "> **market_id:** The market region where the contractor performed services.\n",
    ">\n",
    "> **time_stamp:** The date of the services.\n",
    ">\n",
    "> **covered_item:** The unique id for the item serviced. Every item type has a unique id.\n",
    ">\n",
    "> **hours:** The number of hours billed by the contractor\n",
    ">\n",
    "> **rate:** The contractor's billable rate (hourly).\n",
    ">\n",
    "> **part_cost:** The gross cost of replacement parts.\n",
    ">\n",
    "> **service_fee:** The fee collected from the homeowner at the time of service.  *Note:* The service fee will only show up on the first invoice_line for each invoice_id.\n",
    "\n",
    "| invoice_id | invoice_line | market_id | time_stamp | covered_item | hours | rate  | part_cost | service_fee | \n",
    "|------------|--------------|----------|------------|---------------|-------|----------|-----------|-----------| \n",
    "| 10000001   | 31215        | 3        | 9/3/19     | 3000          | 1.5   | 65       | 0         | 35 | \n",
    "| 10000001   | 31216        | 3        | 9/3/19     | 3354H         | 3     | 65       | 18.00     | 0  |\n",
    "| 10000002   | 91455        | 1        | 9/5/19     | 1234          | 2     | 80       | 20.00     | 35 |\n",
    "| 10000003   | 59943        | 2        | 9/5/19     | 3000          | .5    | 70       | 0         | 35 |\n",
    "| 10000004   | 95027        | 2        | 9/5/19     | 18518         | 1     | 95       | 70.50     | 55 |\n",
    "| 10000005   | 73994        | 2        | 9/5/19     | 12HA12        | 4     | 90       | 0         | 35 |\n",
    "| 10000006   | 98464        | 1        | 10/1/19    | wh30000       | 1     | 65       | 45.00     | 35 |\n",
    "\n",
    "\n",
    "#### Table Item_Detail Schema\n",
    "> **covered_item:** The unique id for the item serviced. Every item type has a unique id.\n",
    ">\n",
    "> **item_description:** The listed name for a given product category.\n",
    ">\n",
    "> **key_internal:** No documentation exists for this field. \n",
    "\n",
    "| item_id | item_description     | key_internal|\n",
    "|---------|---------     |  ---------  |\n",
    "| 3000    | Washer       |  17375273   |\n",
    "| 3354H   | Dryer        |  15477787   |\n",
    "| 1234    | Microwave    |  97845235   |\n",
    "| 18518   | Dishwasher   |  47813334   |\n",
    "| 12HA12  | Oven         |  48573988   |\n",
    "| wh30000 | Refrigerator |  00000000   |\n",
    "\n",
    "Your task is to construct a single SQL query that returns the **total expense** (`rate` * `hours` + `part_cost` - `adjusted_service_fee`) and the **average expense** by the market_id and item description for invoices in 2019, with the output ordered by decreasing **average expense**.\n",
    "\n",
    "*Important Note:* If there are multiple invoice lines for an invoice, the service fee will only show up on one invoice line. In calculating the total and average expenses, an adjusted service fee should be used.  For example, if there are 3 invoicelines associated with an invoice id, having service feees of \\$30, \\$0, and \\$0, the service fee amount applied to each invoice line should be $10.\n",
    "\n",
    "*Bonus Question:* How would you use Python to access this data and perform these operations?"
   ]
  },
  {
   "cell_type": "markdown",
   "metadata": {},
   "source": [
    "<h3> Question 1; Part 1 : SQL Query:- </h3>"
   ]
  },
  {
   "cell_type": "code",
   "execution_count": 6,
   "metadata": {},
   "outputs": [
    {
     "data": {
      "text/html": [
       "<div>\n",
       "<style scoped>\n",
       "    .dataframe tbody tr th:only-of-type {\n",
       "        vertical-align: middle;\n",
       "    }\n",
       "\n",
       "    .dataframe tbody tr th {\n",
       "        vertical-align: top;\n",
       "    }\n",
       "\n",
       "    .dataframe thead th {\n",
       "        text-align: right;\n",
       "    }\n",
       "</style>\n",
       "<table border=\"1\" class=\"dataframe\">\n",
       "  <thead>\n",
       "    <tr style=\"text-align: right;\">\n",
       "      <th></th>\n",
       "      <th>time_stamp</th>\n",
       "      <th>market_id</th>\n",
       "      <th>item_description</th>\n",
       "      <th>total_expense</th>\n",
       "      <th>average_expense</th>\n",
       "    </tr>\n",
       "  </thead>\n",
       "  <tbody>\n",
       "    <tr>\n",
       "      <th>0</th>\n",
       "      <td>9/5/19</td>\n",
       "      <td>2</td>\n",
       "      <td>Oven</td>\n",
       "      <td>325.0</td>\n",
       "      <td>325.0</td>\n",
       "    </tr>\n",
       "    <tr>\n",
       "      <th>1</th>\n",
       "      <td>9/3/19</td>\n",
       "      <td>3</td>\n",
       "      <td>Dryer</td>\n",
       "      <td>195.5</td>\n",
       "      <td>195.5</td>\n",
       "    </tr>\n",
       "    <tr>\n",
       "      <th>2</th>\n",
       "      <td>9/5/19</td>\n",
       "      <td>1</td>\n",
       "      <td>Microwave</td>\n",
       "      <td>145.0</td>\n",
       "      <td>145.0</td>\n",
       "    </tr>\n",
       "    <tr>\n",
       "      <th>3</th>\n",
       "      <td>9/5/19</td>\n",
       "      <td>2</td>\n",
       "      <td>Dishwasher</td>\n",
       "      <td>110.5</td>\n",
       "      <td>110.5</td>\n",
       "    </tr>\n",
       "    <tr>\n",
       "      <th>4</th>\n",
       "      <td>9/3/19</td>\n",
       "      <td>3</td>\n",
       "      <td>Washer</td>\n",
       "      <td>80.0</td>\n",
       "      <td>80.0</td>\n",
       "    </tr>\n",
       "    <tr>\n",
       "      <th>5</th>\n",
       "      <td>10/1/19</td>\n",
       "      <td>1</td>\n",
       "      <td>Refrigerator</td>\n",
       "      <td>75.0</td>\n",
       "      <td>75.0</td>\n",
       "    </tr>\n",
       "    <tr>\n",
       "      <th>6</th>\n",
       "      <td>9/5/19</td>\n",
       "      <td>2</td>\n",
       "      <td>Washer</td>\n",
       "      <td>0.0</td>\n",
       "      <td>0.0</td>\n",
       "    </tr>\n",
       "  </tbody>\n",
       "</table>\n",
       "</div>"
      ],
      "text/plain": [
       "  time_stamp  market_id item_description  total_expense  average_expense\n",
       "0     9/5/19          2             Oven          325.0            325.0\n",
       "1     9/3/19          3            Dryer          195.5            195.5\n",
       "2     9/5/19          1        Microwave          145.0            145.0\n",
       "3     9/5/19          2       Dishwasher          110.5            110.5\n",
       "4     9/3/19          3           Washer           80.0             80.0\n",
       "5    10/1/19          1     Refrigerator           75.0             75.0\n",
       "6     9/5/19          2           Washer            0.0              0.0"
      ]
     },
     "execution_count": 6,
     "metadata": {},
     "output_type": "execute_result"
    }
   ],
   "source": [
    "# Assumptions:-\n",
    "# 1] 'covered_item' from 'Contractor_Invoice_Detail' table and 'item_id' from 'Item_Detail' table are both refer to \n",
    "#    'The unique id for the item serviced' , and 'item_id' from 'Item_Detail' table is the foreign key which maps to  \n",
    "#    'covered_item' in 'Contractor_Invoice_Detail' table\n",
    "#\n",
    "# 2] The 'time_stamp' is in format mm/dd/yy\n",
    "#\n",
    "# 3] All date years will be considered \n",
    "#\n",
    "# 4] pandassql has been used to run and test the query : https://pypi.org/project/pandasql/\n",
    "#\n",
    "# 5] For below sql sqllight:'https://sqlite.org/index.html' syntaxes have been followed, and all dates have been conidered\n",
    "#    as strings.\n",
    "\n",
    "\n",
    "import pandasql as ps\n",
    "from io import StringIO\n",
    "\n",
    "######################### Code to generate python dataframe to test sql ########################################\n",
    "Contractor_Invoice_Detail_str=StringIO(\"\"\"invoice_id,invoice_line,market_id,time_stamp,covered_item,hours,rate,part_cost,service_fee\n",
    "                                            10000001,31215,3,9/3/19,3000,1.5,65,0,35\n",
    "                                            10000001,31216,3,9/3/19,3354H,3,65,18,0\n",
    "                                            10000002,91455,1,9/5/19,1234,2,80,20,35\n",
    "                                            10000003,59943,2,9/5/19,3000,0.5,70,0,35\n",
    "                                            10000004,95027,2,9/5/19,18518,1,95,70.5,55\n",
    "                                            10000005,73994,2,9/5/19,12HA12,4,90,0,35\n",
    "                                            10000006,98464,1,10/1/19,wh30000,1,65,45,35\n",
    "                                            10000006,98464,1,10/1/18,wh30000,1,65,45,35\n",
    "                                            10000006,98464,1,10/1/18,wh30000,1,65,45,35\n",
    "                                            \"\"\")\n",
    "Contractor_Invoice_Detail=pd.read_csv(Contractor_Invoice_Detail_str, sep=\",\")\n",
    "\n",
    "\n",
    "Item_Detail_str=StringIO(\"\"\"item_id,item_description,key_internal\n",
    "                            3000,Washer,17375273\n",
    "                            3354H,Dryer,15477787\n",
    "                            1234,Microwave,97845235\n",
    "                            18518,Dishwasher,47813334\n",
    "                            12HA12,Oven,48573988\n",
    "                            wh30000,Refrigerator,0\"\"\")\n",
    "Item_Detail=pd.read_csv(Item_Detail_str)\n",
    "\n",
    "\n",
    "########################### Final SQl Query ##############################################################################\n",
    "# *Note: Comments in the below query are starting with '--', above the statements.\n",
    "\n",
    "ps.sqldf(\"\"\"SELECT \n",
    "              c.time_stamp, \n",
    "              c.market_id, \n",
    "              i.item_description, \n",
    "              -- Calculating total_expense and average_expense\n",
    "               sum(\n",
    "                 c.rate * c.hours + c.part_cost - c.adjusted_service_fee\n",
    "               ) AS total_expense, \n",
    "               avg(\n",
    "                 c.rate * c.hours + c.part_cost - c.adjusted_service_fee\n",
    "               ) AS average_expense \n",
    "            FROM \n",
    "              (\n",
    "                SELECT \n",
    "                  *,                  \n",
    "                  -- Calculating adjusted_service_fee by taking average for each invoice_id using analytical function\n",
    "                   avg(service_fee) OVER (PARTITION BY invoice_id) AS adjusted_service_fee \n",
    "                FROM \n",
    "                  Contractor_Invoice_Detail \n",
    "                -- fiter out records of year 2019\n",
    "                 WHERE \n",
    "                   time_stamp LIKE '%/19'\n",
    "              ) AS c \n",
    "              JOIN Item_Detail AS i ON trim(c.covered_item) = trim(i.item_id) \n",
    "            GROUP BY \n",
    "              c.market_id, \n",
    "              i.item_description, \n",
    "              c.time_stamp \n",
    "            ORDER BY \n",
    "              average_expense DESC\n",
    "            \"\"\")"
   ]
  },
  {
   "cell_type": "markdown",
   "metadata": {},
   "source": [
    "<h3> <u>Question 1; Part 2 : Bonus:- </u></h3>"
   ]
  },
  {
   "cell_type": "markdown",
   "metadata": {},
   "source": [
    "<b>Answer:-</b><br><br>\n",
    "1] The same can be done in python using <b>pandas api</b> as well, if the data is availabe as csv. <br><br>\n",
    "2] If the data is huge than the processing needs to  be done on database side. In this case we can establish a connection to the databse like for mysql we can use 'MySQLdb' module to establish the connection as :- <br>\n",
    "\n",
    "db = MySQLdb.connect(\"localhost\",\"testuser\",\"test123\",\"TESTDB\" )\n",
    "\n",
    "and execute the query as :-<br>\n",
    "cursor = db.cursor()\n",
    "cursor.execute(\"selec * from Contractor_Invoice_Detail ....\")"
   ]
  },
  {
   "cell_type": "markdown",
   "metadata": {},
   "source": [
    "## Question 3: Hypothesis Testing\n",
    "After starting at Frontdoor, you've been asked to help with a marketing campaign on a promotional webpage aimed.  You have been asked to analyze the results of a randomized, controlled experiment and provide a recommendation.  For this experiment, each visitor to the site is randomly exposed to one of four possible adverts, each depicting a contractor fixing a different home item (e.g., a kitchen faucet or an air conditioning unit).  Visitors are then tracked to see which ones end up purchasing a home warranty plan.  Based on the data provided, what would your recommendation be?  Would you recommend one of the four adverts be presented to all visitors?\n",
    "\n",
    "| Advert   | Views     | Home Warranty Purchases \n",
    "|----------|-----------|----------|\n",
    "| A        | 21        | 3        | \n",
    "| B        | 180       | 30       | \n",
    "| C        | 250       | 50       | \n",
    "| D        | 100       | 15       | \n",
    "\n",
    "*Bonus Question:* How would your analysis change if the visitors and purchase counts numbered in the millions? "
   ]
  },
  {
   "cell_type": "markdown",
   "metadata": {},
   "source": [
    "<h3>Question 3:Part 1 Hypothesis Testing</h3>"
   ]
  },
  {
   "cell_type": "markdown",
   "metadata": {},
   "source": [
    "Lets check the conversion rate for each Advert :- <br><br>\n",
    "<i>conversion rate = Home Warrenty Purchased / Views</i>"
   ]
  },
  {
   "cell_type": "code",
   "execution_count": 7,
   "metadata": {},
   "outputs": [
    {
     "data": {
      "text/plain": [
       "Text(0, 0.5, 'conversion rate (%)')"
      ]
     },
     "execution_count": 7,
     "metadata": {},
     "output_type": "execute_result"
    },
    {
     "data": {
      "image/png": "[encoded data removed]",
      "text/plain": [
       "<Figure size 432x288 with 1 Axes>"
      ]
     },
     "metadata": {
      "needs_background": "light"
     },
     "output_type": "display_data"
    }
   ],
   "source": [
    "from matplotlib import pyplot as plt\n",
    "\n",
    "# Reading the data in a dataframe\n",
    "experiment=pd.DataFrame({'Advert':['A','B','C','D'],\n",
    "               'Views':[21,180,250,100],\n",
    "               'Home_Warranty_Purchases':[3,30,50,15]})\n",
    "\n",
    "#calculating conversion rate\n",
    "experiment['conversion_rate']=experiment['Home_Warranty_Purchases']/experiment['Views']\n",
    "\n",
    "plt.bar(experiment['Advert'],experiment['conversion_rate']*100)\n",
    "plt.gca().set_title('Variance of observed')\n",
    "plt.gca().set_ylabel('conversion rate (%)')"
   ]
  },
  {
   "cell_type": "markdown",
   "metadata": {},
   "source": [
    "<b>Clearly the difference between the conversion rates is not that significant to select any one</b>"
   ]
  },
  {
   "cell_type": "markdown",
   "metadata": {},
   "source": [
    "<h3>Hypothesis formulation and Chi-square test :-</h3>\n",
    "\n",
    "* To test the significance of each Advert and group of adverts we will use <b>chi-square test p-value</b>\n",
    "* For this test the following is the null hypothesis:- <br>\n",
    "    &emsp;<b> Null Hypothesis:</b> For each Advert the obseved count of 'Home Warranty Purchases' is just by chance ,i.e. these are not significant difference between obseved count of 'Home Warranty Purchases' for individual Advert <br>\n",
    "    \n",
    "   &emsp;<b> Alternate Hypothesis:</b>For each Advert the obseved count of 'Home Warranty Purchases' is significantly<br>                                         &emsp;&emsp;&emsp;differnet form remaining.\n",
    "   \n",
    "   &emsp;<b> alpha:</b>0.05 <br>\n",
    "   \n",
    "   if p-value < 0.05 than we reject the Null Hypothesis.\n",
    "   "
   ]
  },
  {
   "cell_type": "code",
   "execution_count": 8,
   "metadata": {},
   "outputs": [],
   "source": [
    "from scipy import stats\n",
    "import numpy as np\n",
    "\n",
    "# Calculate Views who have not purchased Home warrenty\n",
    "experiment['Not_purchased']=experiment['Views']-experiment['Home_Warranty_Purchases']\n",
    "\n",
    "# Function to calculate chi-square test\n",
    "def get_p_value(a):\n",
    "    ''' This function runs chi-square test for each of the Advert taken as imput and returns a p-value'''\n",
    "    a_df=experiment.loc[experiment.Advert.isin(a),:]\n",
    "    nona_df=experiment.loc[~experiment.Advert.isin(a),:].sum()    \n",
    "    exp=np.array([[a_df['Home_Warranty_Purchases'].values[0],a_df['Not_purchased'].values[0]],\n",
    "             [nona_df['Home_Warranty_Purchases'],nona_df['Not_purchased']]])\n",
    "    chi2, p_value, df, _ = stats.chi2_contingency(exp)    \n",
    "    return np.round(p_value,3)"
   ]
  },
  {
   "cell_type": "code",
   "execution_count": 9,
   "metadata": {},
   "outputs": [
    {
     "name": "stdout",
     "output_type": "stream",
     "text": [
      "P-Value for significance of Advert A: 0.891\n",
      "P-Value for significance of Advert B: 0.719\n",
      "P-Value for significance of Advert C: 0.26\n",
      "P-Value for significance of Advert D: 0.509\n"
     ]
    }
   ],
   "source": [
    "print('P-Value for significance of Advert A:',get_p_value(['A']))\n",
    "print('P-Value for significance of Advert B:',get_p_value(['B']))\n",
    "print('P-Value for significance of Advert C:',get_p_value(['C']))\n",
    "print('P-Value for significance of Advert D:',get_p_value(['D']))"
   ]
  },
  {
   "cell_type": "markdown",
   "metadata": {},
   "source": [
    "<b>As can be seen above none of the p-values are significant enough(<0.05) to reject the null hypothesis. </b><br>\n",
    "Hence No from the observations till now i would not recommend any of the four adverts be presented to all visitors"
   ]
  },
  {
   "cell_type": "markdown",
   "metadata": {},
   "source": [
    "<h4>Question 3:Part 2 Hypothesis Testing</h4>\n",
    "How would your analysis change if the visitors and purchase counts numbered in the millions? <br>\n",
    "<b>Answer:-</b> <br>\n",
    "1] I would use random subsampling to subsample the data and calculate the statistics on that sample. <br>\n",
    "2] Or Would use big data tools to aggregate the count of 'Views' and 'Home Warranty Purchases' and than calculate the test statistics on the same."
   ]
  },
  {
   "cell_type": "markdown",
   "metadata": {},
   "source": [
    "## Question 4: Forecasting\n",
    "\n",
    "For this question, you will be provided with ficticious data related to the count of calls recieved at our call center for the past one hundred days.  You are now asked to create a forecast for the next sixty days using this data.  "
   ]
  },
  {
   "cell_type": "code",
   "execution_count": 10,
   "metadata": {},
   "outputs": [],
   "source": [
    "from datetime import datetime\n",
    "\n",
    "callData = {'date': [\"1/1/2020\",\"1/2/2020\",\"1/3/2020\",\"1/4/2020\",\"1/5/2020\",\"1/6/2020\",\"1/7/2020\",\"1/8/2020\",\"1/9/2020\",\"1/10/2020\",\n",
    "\"1/11/2020\",\"1/12/2020\",\"1/13/2020\",\"1/14/2020\",\"1/15/2020\",\"1/16/2020\",\"1/17/2020\",\"1/18/2020\",\"1/19/2020\",\"1/20/2020\",\n",
    "\"1/21/2020\",\"1/22/2020\",\"1/23/2020\",\"1/24/2020\",\"1/25/2020\",\"1/26/2020\",\"1/27/2020\",\"1/28/2020\",\"1/29/2020\",\"1/30/2020\",\n",
    "\"1/31/2020\",\"2/1/2020\",\"2/2/2020\",\"2/3/2020\",\"2/4/2020\",\"2/5/2020\",\"2/6/2020\",\"2/7/2020\",\"2/8/2020\",\"2/9/2020\",\"2/10/2020\",\n",
    "\"2/11/2020\",\"2/12/2020\",\"2/13/2020\",\"2/14/2020\",\"2/15/2020\",\"2/16/2020\",\"2/17/2020\",\"2/18/2020\",\"2/19/2020\",\"2/20/2020\",\n",
    "\"2/21/2020\",\"2/22/2020\",\"2/23/2020\",\"2/24/2020\",\"2/25/2020\",\"2/26/2020\",\"2/27/2020\",\"2/28/2020\",\"3/1/2020\",\"3/2/2020\",\"3/3/2020\",\n",
    "\"3/4/2020\",\"3/5/2020\",\"3/6/2020\",\"3/7/2020\",\"3/8/2020\",\"3/9/2020\",\"3/10/2020\",\"3/11/2020\",\"3/12/2020\",\"3/13/2020\",\"3/14/2020\",\n",
    "\"3/15/2020\",\"3/16/2020\",\"3/17/2020\",\"3/18/2020\",\"3/19/2020\",\"3/20/2020\",\"3/21/2020\",\"3/22/2020\",\"3/23/2020\",\"3/24/2020\",\n",
    "\"3/25/2020\",\"3/26/2020\",\"3/27/2020\",\"3/28/2020\",\"3/29/2020\",\"3/30/2020\",\"3/31/2020\",\"4/1/2020\",\"4/2/2020\",\"4/3/2020\",\n",
    "\"4/4/2020\",\"4/5/2020\",\"4/6/2020\",\"4/7/2020\",\"4/8/2020\",\"4/9/2020\",\"4/10/2020\"],\n",
    "     'calls': [16215, 16484, 15877, 14780, 12622, 12607, 12362, 12912, 12367, 13991, 14562, 14761, 13735, 13386, 12023\n",
    "     , 11504, 11795, 13127, 12971, 14433, 16094, 17120, 17184, 18188, 16540, 16693, 16031, 14601, 15447, 15716, 15042\n",
    "     , 15039, 14197, 12339, 13095, 12764, 11386, 10621, 11256, 10997, 12614, 12480, 14006, 14436, 13711, 12115, 11612\n",
    "     , 12812, 13036, 12844, 11745, 13598, 12914, 13813, 14634, 14995, 16356, 15731, 17142, 18383, 18686, 21692, 21800\n",
    "     , 21502, 21786, 20292, 19104, 18193, 18341, 17314, 16861, 16853, 17992, 18246, 18968, 17741, 16718, 16335, 15898\n",
    "     , 15666, 16600, 18110, 18401, 18370, 18346, 17691, 18643, 18489, 19289, 17290, 16668, 17804, 16989, 17976, 16239\n",
    "     , 15444, 14951, 13434, 13655, 13105]}\n",
    "\n",
    "call_df = pd.DataFrame(data = callData)\n",
    "\n",
    "# Convert string to date\n",
    "call_df['date']=call_df['date'].apply(lambda x:datetime.strptime(x, '%m/%d/%Y'))\n",
    "\n",
    "# Sort the series by date\n",
    "call_df.sort_values(by='date',ascending=True,inplace=True)\n",
    "\n",
    "# Set date as index\n",
    "call_df.set_index('date',inplace=True)\n"
   ]
  },
  {
   "cell_type": "markdown",
   "metadata": {},
   "source": [
    "<h4>* Lets Vizualize the time series:-</h4>"
   ]
  },
  {
   "cell_type": "code",
   "execution_count": 11,
   "metadata": {
    "scrolled": true
   },
   "outputs": [
    {
     "data": {
      "text/plain": [
       "Text(0.5, 0, 'Calls received')"
      ]
     },
     "execution_count": 11,
     "metadata": {},
     "output_type": "execute_result"
    },
    {
     "data": {
      "image/png": "[encoded data removed]",
      "text/plain": [
       "<Figure size 432x288 with 1 Axes>"
      ]
     },
     "metadata": {
      "needs_background": "light"
     },
     "output_type": "display_data"
    }
   ],
   "source": [
    "from datetime import datetime\n",
    "from matplotlib import pyplot as plt\n",
    "import numpy as np\n",
    "\n",
    "\n",
    "plt.plot(call_df)\n",
    "plt.xticks(rotation=45)\n",
    "plt.gca().set_xlabel('Calls received')"
   ]
  },
  {
   "cell_type": "markdown",
   "metadata": {},
   "source": [
    "Observations:-<br>\n",
    "1] We can see some monthly cyclicity in the data."
   ]
  },
  {
   "cell_type": "markdown",
   "metadata": {},
   "source": [
    "<b>Dickey Fuller test to see if series is stationary :-</b><br>\n",
    "This test is used to assess whether or not a time-series is stationary.\n",
    "Stationarity is the property of exhibiting constant statistical properties (mean, variance, autocorrelation, etc.).If a series is stationary it cannot be modelled further. <br>\n",
    "\n",
    "lets consider convidence inteval alpha=0.05<br>\n",
    "if p-value returned by Dickey Fuller test is <0.05 than the series is stationary"
   ]
  },
  {
   "cell_type": "code",
   "execution_count": 12,
   "metadata": {},
   "outputs": [
    {
     "name": "stdout",
     "output_type": "stream",
     "text": [
      "P-value = 0.129\n"
     ]
    }
   ],
   "source": [
    "from statsmodels.tsa.stattools import adfuller\n",
    "\n",
    "dftest = adfuller(call_df.calls.dropna())\n",
    "print(\"P-value = {:.3f}\".format(dftest[1]))"
   ]
  },
  {
   "cell_type": "markdown",
   "metadata": {},
   "source": [
    "since 0.129>0.05 hence the series is not stationary <br>\n",
    "since series is not stationary we will use Holt Winter Exponential to model the same"
   ]
  },
  {
   "cell_type": "code",
   "execution_count": 13,
   "metadata": {},
   "outputs": [
    {
     "data": {
      "image/png": "[encoded data removed]",
      "text/plain": [
       "<Figure size 1440x720 with 4 Axes>"
      ]
     },
     "metadata": {
      "needs_background": "light"
     },
     "output_type": "display_data"
    }
   ],
   "source": [
    "from statsmodels.tsa.seasonal import seasonal_decompose\n",
    "# holt winters \n",
    "from statsmodels.tsa.holtwinters import ExponentialSmoothing\n",
    "from matplotlib import pyplot as plt\n",
    "from pylab import rcParams\n",
    "\n",
    "decompose_result = seasonal_decompose(call_df,model='addative',period=30)\n",
    "\n",
    "fg=decompose_result.plot()\n",
    "ast=fg.axes\n",
    "fg.autofmt_xdate()\n",
    "fg.set_figheight(10)\n",
    "fg.set_figwidth(20)\n",
    "\n",
    "plt.tight_layout()"
   ]
  },
  {
   "attachments": {
    "image.png": {
     "image/png": "[encoded data removed]"
    }
   },
   "cell_type": "markdown",
   "metadata": {},
   "source": [
    "<h4>Holt Winter Exponential Modelling:-</h4><br>\n",
    "\n",
    "Since series is not stationary, and also clearly shows some seasonlality we will use <b>Holt Winter Exponential Model</b> for forecasting:-<\n",
    "\n",
    "Lets do a <b>hyper parameter</b> search for :-<br>\n",
    "* <b>trend component:</b> to be modelled as 'addative' or 'multiplicative'\n",
    "* <b>seasonal component:</b> to be modelled as 'seasonal' or 'multiplicative'\n",
    "* <b>period for seasonality:</b> from range 30 to 50\n",
    "* Since we have very less data to capture long term seasonality, we will use the complete data for modelling , and calculate MAPE,described below on predictions from training data itself, and later visually fine tune if required.<br>\n",
    "\n",
    "Mean Absolute Percentage Error is defined as :-<br>\n",
    "\n",
    "![image.png](attachment:image.png)\n",
    "\n",
    "Where <br>\n",
    "M\t= \tmean absolute percentage error<br>\n",
    "n\t= \tnumber of times the summation iteration happens<br>\n",
    "A_t\t= \tactual value<br>\n",
    "F_t\t= \tforecast value<br>\n",
    "\n",
    "* Since we have very less data to capture long term seasonality we will start with a higher value of 'period' , which defines the seasonality frequency , i.e. from 30 to 50 to introduce a little bias to reduce overfitting, and later visually fine tune if required.\n",
    "* We will also check the stationarity of the residual series using Dickey Fuller p-value\n",
    "    "
   ]
  },
  {
   "cell_type": "code",
   "execution_count": 14,
   "metadata": {},
   "outputs": [
    {
     "name": "stderr",
     "output_type": "stream",
     "text": [
      "100%|███████████████████████████████████████████████████████████████████████████████████████████████████████████████████████████████████████████████████████████████████████████████████████████████████████| 40/40 [00:07<00:00,  5.66it/s]\n"
     ]
    },
    {
     "data": {
      "text/html": [
       "<div>\n",
       "<style scoped>\n",
       "    .dataframe tbody tr th:only-of-type {\n",
       "        vertical-align: middle;\n",
       "    }\n",
       "\n",
       "    .dataframe tbody tr th {\n",
       "        vertical-align: top;\n",
       "    }\n",
       "\n",
       "    .dataframe thead th {\n",
       "        text-align: right;\n",
       "    }\n",
       "</style>\n",
       "<table border=\"1\" class=\"dataframe\">\n",
       "  <thead>\n",
       "    <tr style=\"text-align: right;\">\n",
       "      <th></th>\n",
       "      <th>Dickey_Fuller_p-val</th>\n",
       "      <th>MAPE</th>\n",
       "      <th>periods</th>\n",
       "      <th>seasonal</th>\n",
       "      <th>trend</th>\n",
       "    </tr>\n",
       "  </thead>\n",
       "  <tbody>\n",
       "    <tr>\n",
       "      <th>19</th>\n",
       "      <td>1.388172e-06</td>\n",
       "      <td>0.038857</td>\n",
       "      <td>49.0</td>\n",
       "      <td>add</td>\n",
       "      <td>add</td>\n",
       "    </tr>\n",
       "    <tr>\n",
       "      <th>21</th>\n",
       "      <td>3.912542e-04</td>\n",
       "      <td>0.040234</td>\n",
       "      <td>31.0</td>\n",
       "      <td>mul</td>\n",
       "      <td>mul</td>\n",
       "    </tr>\n",
       "    <tr>\n",
       "      <th>1</th>\n",
       "      <td>2.497469e-17</td>\n",
       "      <td>0.041231</td>\n",
       "      <td>31.0</td>\n",
       "      <td>add</td>\n",
       "      <td>add</td>\n",
       "    </tr>\n",
       "    <tr>\n",
       "      <th>11</th>\n",
       "      <td>3.846343e-07</td>\n",
       "      <td>0.041246</td>\n",
       "      <td>41.0</td>\n",
       "      <td>add</td>\n",
       "      <td>add</td>\n",
       "    </tr>\n",
       "    <tr>\n",
       "      <th>14</th>\n",
       "      <td>1.350145e-11</td>\n",
       "      <td>0.041384</td>\n",
       "      <td>44.0</td>\n",
       "      <td>add</td>\n",
       "      <td>add</td>\n",
       "    </tr>\n",
       "    <tr>\n",
       "      <th>13</th>\n",
       "      <td>8.332505e-08</td>\n",
       "      <td>0.041626</td>\n",
       "      <td>43.0</td>\n",
       "      <td>add</td>\n",
       "      <td>add</td>\n",
       "    </tr>\n",
       "    <tr>\n",
       "      <th>18</th>\n",
       "      <td>1.732664e-08</td>\n",
       "      <td>0.042630</td>\n",
       "      <td>48.0</td>\n",
       "      <td>add</td>\n",
       "      <td>add</td>\n",
       "    </tr>\n",
       "    <tr>\n",
       "      <th>32</th>\n",
       "      <td>3.510507e-11</td>\n",
       "      <td>0.042877</td>\n",
       "      <td>42.0</td>\n",
       "      <td>mul</td>\n",
       "      <td>mul</td>\n",
       "    </tr>\n",
       "    <tr>\n",
       "      <th>12</th>\n",
       "      <td>1.594315e-11</td>\n",
       "      <td>0.043249</td>\n",
       "      <td>42.0</td>\n",
       "      <td>add</td>\n",
       "      <td>add</td>\n",
       "    </tr>\n",
       "    <tr>\n",
       "      <th>39</th>\n",
       "      <td>3.929333e-06</td>\n",
       "      <td>0.043864</td>\n",
       "      <td>49.0</td>\n",
       "      <td>mul</td>\n",
       "      <td>mul</td>\n",
       "    </tr>\n",
       "    <tr>\n",
       "      <th>27</th>\n",
       "      <td>7.328497e-14</td>\n",
       "      <td>0.044364</td>\n",
       "      <td>37.0</td>\n",
       "      <td>mul</td>\n",
       "      <td>mul</td>\n",
       "    </tr>\n",
       "    <tr>\n",
       "      <th>34</th>\n",
       "      <td>4.488792e-11</td>\n",
       "      <td>0.045356</td>\n",
       "      <td>44.0</td>\n",
       "      <td>mul</td>\n",
       "      <td>mul</td>\n",
       "    </tr>\n",
       "    <tr>\n",
       "      <th>33</th>\n",
       "      <td>2.809010e-08</td>\n",
       "      <td>0.045439</td>\n",
       "      <td>43.0</td>\n",
       "      <td>mul</td>\n",
       "      <td>mul</td>\n",
       "    </tr>\n",
       "    <tr>\n",
       "      <th>2</th>\n",
       "      <td>1.949047e-13</td>\n",
       "      <td>0.045881</td>\n",
       "      <td>32.0</td>\n",
       "      <td>add</td>\n",
       "      <td>add</td>\n",
       "    </tr>\n",
       "    <tr>\n",
       "      <th>22</th>\n",
       "      <td>1.612318e-14</td>\n",
       "      <td>0.047412</td>\n",
       "      <td>32.0</td>\n",
       "      <td>mul</td>\n",
       "      <td>mul</td>\n",
       "    </tr>\n",
       "    <tr>\n",
       "      <th>38</th>\n",
       "      <td>1.005731e-07</td>\n",
       "      <td>0.047740</td>\n",
       "      <td>48.0</td>\n",
       "      <td>mul</td>\n",
       "      <td>mul</td>\n",
       "    </tr>\n",
       "    <tr>\n",
       "      <th>16</th>\n",
       "      <td>4.694368e-06</td>\n",
       "      <td>0.047974</td>\n",
       "      <td>46.0</td>\n",
       "      <td>add</td>\n",
       "      <td>add</td>\n",
       "    </tr>\n",
       "    <tr>\n",
       "      <th>31</th>\n",
       "      <td>3.460319e-07</td>\n",
       "      <td>0.048378</td>\n",
       "      <td>41.0</td>\n",
       "      <td>mul</td>\n",
       "      <td>mul</td>\n",
       "    </tr>\n",
       "    <tr>\n",
       "      <th>3</th>\n",
       "      <td>5.583143e-07</td>\n",
       "      <td>0.048418</td>\n",
       "      <td>33.0</td>\n",
       "      <td>add</td>\n",
       "      <td>add</td>\n",
       "    </tr>\n",
       "    <tr>\n",
       "      <th>35</th>\n",
       "      <td>4.486846e-03</td>\n",
       "      <td>0.048915</td>\n",
       "      <td>45.0</td>\n",
       "      <td>mul</td>\n",
       "      <td>mul</td>\n",
       "    </tr>\n",
       "    <tr>\n",
       "      <th>15</th>\n",
       "      <td>9.775234e-07</td>\n",
       "      <td>0.049038</td>\n",
       "      <td>45.0</td>\n",
       "      <td>add</td>\n",
       "      <td>add</td>\n",
       "    </tr>\n",
       "    <tr>\n",
       "      <th>23</th>\n",
       "      <td>2.526996e-06</td>\n",
       "      <td>0.049070</td>\n",
       "      <td>33.0</td>\n",
       "      <td>mul</td>\n",
       "      <td>mul</td>\n",
       "    </tr>\n",
       "    <tr>\n",
       "      <th>37</th>\n",
       "      <td>3.398067e-05</td>\n",
       "      <td>0.049142</td>\n",
       "      <td>47.0</td>\n",
       "      <td>mul</td>\n",
       "      <td>mul</td>\n",
       "    </tr>\n",
       "    <tr>\n",
       "      <th>6</th>\n",
       "      <td>6.613111e-09</td>\n",
       "      <td>0.049327</td>\n",
       "      <td>36.0</td>\n",
       "      <td>add</td>\n",
       "      <td>add</td>\n",
       "    </tr>\n",
       "    <tr>\n",
       "      <th>36</th>\n",
       "      <td>1.042873e-04</td>\n",
       "      <td>0.049408</td>\n",
       "      <td>46.0</td>\n",
       "      <td>mul</td>\n",
       "      <td>mul</td>\n",
       "    </tr>\n",
       "    <tr>\n",
       "      <th>0</th>\n",
       "      <td>3.615437e-12</td>\n",
       "      <td>0.049423</td>\n",
       "      <td>30.0</td>\n",
       "      <td>add</td>\n",
       "      <td>add</td>\n",
       "    </tr>\n",
       "    <tr>\n",
       "      <th>10</th>\n",
       "      <td>4.893352e-06</td>\n",
       "      <td>0.050134</td>\n",
       "      <td>40.0</td>\n",
       "      <td>add</td>\n",
       "      <td>add</td>\n",
       "    </tr>\n",
       "    <tr>\n",
       "      <th>8</th>\n",
       "      <td>1.299011e-05</td>\n",
       "      <td>0.051116</td>\n",
       "      <td>38.0</td>\n",
       "      <td>add</td>\n",
       "      <td>add</td>\n",
       "    </tr>\n",
       "    <tr>\n",
       "      <th>26</th>\n",
       "      <td>1.966463e-07</td>\n",
       "      <td>0.051376</td>\n",
       "      <td>36.0</td>\n",
       "      <td>mul</td>\n",
       "      <td>mul</td>\n",
       "    </tr>\n",
       "    <tr>\n",
       "      <th>25</th>\n",
       "      <td>4.453362e-11</td>\n",
       "      <td>0.051589</td>\n",
       "      <td>35.0</td>\n",
       "      <td>mul</td>\n",
       "      <td>mul</td>\n",
       "    </tr>\n",
       "    <tr>\n",
       "      <th>28</th>\n",
       "      <td>4.401807e-01</td>\n",
       "      <td>0.052508</td>\n",
       "      <td>38.0</td>\n",
       "      <td>mul</td>\n",
       "      <td>mul</td>\n",
       "    </tr>\n",
       "    <tr>\n",
       "      <th>20</th>\n",
       "      <td>2.813980e-11</td>\n",
       "      <td>0.052661</td>\n",
       "      <td>30.0</td>\n",
       "      <td>mul</td>\n",
       "      <td>mul</td>\n",
       "    </tr>\n",
       "    <tr>\n",
       "      <th>17</th>\n",
       "      <td>5.775512e-07</td>\n",
       "      <td>0.053745</td>\n",
       "      <td>47.0</td>\n",
       "      <td>add</td>\n",
       "      <td>add</td>\n",
       "    </tr>\n",
       "    <tr>\n",
       "      <th>7</th>\n",
       "      <td>3.440123e-09</td>\n",
       "      <td>0.054528</td>\n",
       "      <td>37.0</td>\n",
       "      <td>add</td>\n",
       "      <td>add</td>\n",
       "    </tr>\n",
       "    <tr>\n",
       "      <th>29</th>\n",
       "      <td>6.417465e-07</td>\n",
       "      <td>0.054566</td>\n",
       "      <td>39.0</td>\n",
       "      <td>mul</td>\n",
       "      <td>mul</td>\n",
       "    </tr>\n",
       "    <tr>\n",
       "      <th>9</th>\n",
       "      <td>1.615169e-09</td>\n",
       "      <td>0.054649</td>\n",
       "      <td>39.0</td>\n",
       "      <td>add</td>\n",
       "      <td>add</td>\n",
       "    </tr>\n",
       "    <tr>\n",
       "      <th>5</th>\n",
       "      <td>2.064491e-07</td>\n",
       "      <td>0.054957</td>\n",
       "      <td>35.0</td>\n",
       "      <td>add</td>\n",
       "      <td>add</td>\n",
       "    </tr>\n",
       "    <tr>\n",
       "      <th>30</th>\n",
       "      <td>2.205032e-06</td>\n",
       "      <td>0.055247</td>\n",
       "      <td>40.0</td>\n",
       "      <td>mul</td>\n",
       "      <td>mul</td>\n",
       "    </tr>\n",
       "    <tr>\n",
       "      <th>4</th>\n",
       "      <td>1.737176e-09</td>\n",
       "      <td>0.055771</td>\n",
       "      <td>34.0</td>\n",
       "      <td>add</td>\n",
       "      <td>add</td>\n",
       "    </tr>\n",
       "    <tr>\n",
       "      <th>24</th>\n",
       "      <td>2.252891e-08</td>\n",
       "      <td>0.058470</td>\n",
       "      <td>34.0</td>\n",
       "      <td>mul</td>\n",
       "      <td>mul</td>\n",
       "    </tr>\n",
       "  </tbody>\n",
       "</table>\n",
       "</div>"
      ],
      "text/plain": [
       "    Dickey_Fuller_p-val      MAPE  periods seasonal trend\n",
       "19         1.388172e-06  0.038857     49.0      add   add\n",
       "21         3.912542e-04  0.040234     31.0      mul   mul\n",
       "1          2.497469e-17  0.041231     31.0      add   add\n",
       "11         3.846343e-07  0.041246     41.0      add   add\n",
       "14         1.350145e-11  0.041384     44.0      add   add\n",
       "13         8.332505e-08  0.041626     43.0      add   add\n",
       "18         1.732664e-08  0.042630     48.0      add   add\n",
       "32         3.510507e-11  0.042877     42.0      mul   mul\n",
       "12         1.594315e-11  0.043249     42.0      add   add\n",
       "39         3.929333e-06  0.043864     49.0      mul   mul\n",
       "27         7.328497e-14  0.044364     37.0      mul   mul\n",
       "34         4.488792e-11  0.045356     44.0      mul   mul\n",
       "33         2.809010e-08  0.045439     43.0      mul   mul\n",
       "2          1.949047e-13  0.045881     32.0      add   add\n",
       "22         1.612318e-14  0.047412     32.0      mul   mul\n",
       "38         1.005731e-07  0.047740     48.0      mul   mul\n",
       "16         4.694368e-06  0.047974     46.0      add   add\n",
       "31         3.460319e-07  0.048378     41.0      mul   mul\n",
       "3          5.583143e-07  0.048418     33.0      add   add\n",
       "35         4.486846e-03  0.048915     45.0      mul   mul\n",
       "15         9.775234e-07  0.049038     45.0      add   add\n",
       "23         2.526996e-06  0.049070     33.0      mul   mul\n",
       "37         3.398067e-05  0.049142     47.0      mul   mul\n",
       "6          6.613111e-09  0.049327     36.0      add   add\n",
       "36         1.042873e-04  0.049408     46.0      mul   mul\n",
       "0          3.615437e-12  0.049423     30.0      add   add\n",
       "10         4.893352e-06  0.050134     40.0      add   add\n",
       "8          1.299011e-05  0.051116     38.0      add   add\n",
       "26         1.966463e-07  0.051376     36.0      mul   mul\n",
       "25         4.453362e-11  0.051589     35.0      mul   mul\n",
       "28         4.401807e-01  0.052508     38.0      mul   mul\n",
       "20         2.813980e-11  0.052661     30.0      mul   mul\n",
       "17         5.775512e-07  0.053745     47.0      add   add\n",
       "7          3.440123e-09  0.054528     37.0      add   add\n",
       "29         6.417465e-07  0.054566     39.0      mul   mul\n",
       "9          1.615169e-09  0.054649     39.0      add   add\n",
       "5          2.064491e-07  0.054957     35.0      add   add\n",
       "30         2.205032e-06  0.055247     40.0      mul   mul\n",
       "4          1.737176e-09  0.055771     34.0      add   add\n",
       "24         2.252891e-08  0.058470     34.0      mul   mul"
      ]
     },
     "execution_count": 14,
     "metadata": {},
     "output_type": "execute_result"
    }
   ],
   "source": [
    "from tqdm import tqdm\n",
    "import warnings\n",
    "warnings.filterwarnings('ignore')\n",
    "\n",
    "# Prepare a dataframe for hyperparameters\n",
    "hyper_params=pd.DataFrame({'periods':[x for x in range(30,50,1)]*2,\n",
    "              'trend':['add']*20 + ['mul']*20,\n",
    "              'seasonal':['add']*20 + ['mul']*20})\n",
    "\n",
    "result_hparams=pd.DataFrame([])\n",
    "\n",
    "# Iterate over hyper_params data frame and generate model\n",
    "for k,row in tqdm(hyper_params.iterrows(),total=hyper_params.shape[0]):    \n",
    "    mape_lst=[]        \n",
    "    fitted_model = ExponentialSmoothing(call_df,trend=row['trend'],seasonal=row['seasonal'],seasonal_periods=row['periods']).fit()\n",
    "    y_pred=fitted_model.fittedvalues\n",
    "    mape_lst.append(np.mean(np.abs(call_df['calls'].values - y_pred)/np.abs(call_df['calls'].values)))\n",
    "    dftest = adfuller(call_df['calls'].values - y_pred)[1]\n",
    "    result_hparams=result_hparams.append({'periods':row['periods'],\n",
    "                                          'trend':row['trend'],\n",
    "                                          'seasonal':row['seasonal'],\n",
    "                                          'MAPE':np.mean(mape_lst),\n",
    "                                          'Dickey_Fuller_p-val':dftest},ignore_index=True)\n",
    "\n",
    "result_hparams.sort_values('MAPE')"
   ]
  },
  {
   "cell_type": "code",
   "execution_count": 15,
   "metadata": {},
   "outputs": [],
   "source": [
    "import pandas as pd\n",
    "from datetime import datetime\n",
    "from statsmodels.tsa.stattools import adfuller\n",
    "\n",
    "\n",
    "def plot_figure_get_result_df(trend,seasonal,seasonal_periods):\n",
    "    '''This function generates a ExponentialSmoothing based on input paramets \n",
    "       and returs forecasted calls for next 60 days'''\n",
    "    call_df_cpy=call_df.copy()\n",
    "    \n",
    "    # Fit a ExponentialSmoothing model on complete data\n",
    "    fitted_model=ExponentialSmoothing(call_df_cpy,trend=trend,seasonal=seasonal,seasonal_periods=seasonal_periods).fit()\n",
    "    \n",
    "    call_df_cpy['Fitted'] = fitted_model.fittedvalues\n",
    "    call_df_cpy['Forecasted']=np.nan\n",
    "\n",
    "    datetime_object = datetime.strptime('4/10/2020', '%m/%d/%Y')\n",
    "    datelist = pd.date_range(datetime_object, periods=60).tolist()\n",
    "    \n",
    "    # get p value for dickey fuller test on residual series\n",
    "    dftest = adfuller(call_df_cpy['calls'].values-call_df_cpy['Fitted'].values)[1]\n",
    "    print(dftest)\n",
    "    \n",
    "    #Create result data frame containing forecasted results\n",
    "    fore_df=pd.DataFrame({'date':datelist,'Forecasted':fitted_model.forecast(60)}).set_index('date')\n",
    "    \n",
    "    # lotting the results\n",
    "    fig=plt.figure(figsize=(50,5))\n",
    "    call_df_cpy[['calls','Fitted']].plot(title='Holt Winters Model')    \n",
    "    plt.plot(fore_df.index,fore_df['Forecasted'],color='green',label='Forecasted')\n",
    "    plt.gca().set_xlabel('calls')\n",
    "    plt.gca().set_title('Dickey Fuller p-value for residual:' + str(dftest))\n",
    "    plt.legend()\n",
    "    plt.tight_layout()\n",
    "    return fore_df"
   ]
  },
  {
   "cell_type": "markdown",
   "metadata": {},
   "source": [
    "<h4>Finetuning and selecting best model:-</h4>\n",
    "\n",
    "Lets try out the plotting top4 configurations:-"
   ]
  },
  {
   "cell_type": "code",
   "execution_count": 16,
   "metadata": {},
   "outputs": [
    {
     "data": {
      "text/html": [
       "<div>\n",
       "<style scoped>\n",
       "    .dataframe tbody tr th:only-of-type {\n",
       "        vertical-align: middle;\n",
       "    }\n",
       "\n",
       "    .dataframe tbody tr th {\n",
       "        vertical-align: top;\n",
       "    }\n",
       "\n",
       "    .dataframe thead th {\n",
       "        text-align: right;\n",
       "    }\n",
       "</style>\n",
       "<table border=\"1\" class=\"dataframe\">\n",
       "  <thead>\n",
       "    <tr style=\"text-align: right;\">\n",
       "      <th></th>\n",
       "      <th>Dickey_Fuller_p-val</th>\n",
       "      <th>MAPE</th>\n",
       "      <th>periods</th>\n",
       "      <th>seasonal</th>\n",
       "      <th>trend</th>\n",
       "    </tr>\n",
       "  </thead>\n",
       "  <tbody>\n",
       "    <tr>\n",
       "      <th>0</th>\n",
       "      <td>1.388172e-06</td>\n",
       "      <td>0.038857</td>\n",
       "      <td>49.0</td>\n",
       "      <td>add</td>\n",
       "      <td>add</td>\n",
       "    </tr>\n",
       "    <tr>\n",
       "      <th>1</th>\n",
       "      <td>3.912542e-04</td>\n",
       "      <td>0.040234</td>\n",
       "      <td>31.0</td>\n",
       "      <td>mul</td>\n",
       "      <td>mul</td>\n",
       "    </tr>\n",
       "    <tr>\n",
       "      <th>2</th>\n",
       "      <td>2.497469e-17</td>\n",
       "      <td>0.041231</td>\n",
       "      <td>31.0</td>\n",
       "      <td>add</td>\n",
       "      <td>add</td>\n",
       "    </tr>\n",
       "    <tr>\n",
       "      <th>3</th>\n",
       "      <td>3.846343e-07</td>\n",
       "      <td>0.041246</td>\n",
       "      <td>41.0</td>\n",
       "      <td>add</td>\n",
       "      <td>add</td>\n",
       "    </tr>\n",
       "  </tbody>\n",
       "</table>\n",
       "</div>"
      ],
      "text/plain": [
       "   Dickey_Fuller_p-val      MAPE  periods seasonal trend\n",
       "0         1.388172e-06  0.038857     49.0      add   add\n",
       "1         3.912542e-04  0.040234     31.0      mul   mul\n",
       "2         2.497469e-17  0.041231     31.0      add   add\n",
       "3         3.846343e-07  0.041246     41.0      add   add"
      ]
     },
     "execution_count": 16,
     "metadata": {},
     "output_type": "execute_result"
    }
   ],
   "source": [
    "result_hparams.sort_values('MAPE').head(4).reset_index(drop=True)"
   ]
  },
  {
   "cell_type": "markdown",
   "metadata": {},
   "source": [
    "<b>Model#1:-</b>"
   ]
  },
  {
   "cell_type": "code",
   "execution_count": 17,
   "metadata": {},
   "outputs": [
    {
     "name": "stdout",
     "output_type": "stream",
     "text": [
      "1.3881719251614341e-06\n"
     ]
    },
    {
     "data": {
      "text/plain": [
       "<Figure size 3600x360 with 0 Axes>"
      ]
     },
     "metadata": {},
     "output_type": "display_data"
    },
    {
     "data": {
      "image/png": "[encoded data removed]",
      "text/plain": [
       "<Figure size 432x288 with 1 Axes>"
      ]
     },
     "metadata": {
      "needs_background": "light"
     },
     "output_type": "display_data"
    }
   ],
   "source": [
    "fore_df=plot_figure_get_result_df('add','add',49)"
   ]
  },
  {
   "cell_type": "markdown",
   "metadata": {},
   "source": [
    "<b>Model#1 Inferencing:-</b><br>\n",
    "Seems overfitted on training data and capturing downward trend sharplly. <br>\n",
    "\n",
    "So we can <b> REJECT</b> this model"
   ]
  },
  {
   "cell_type": "markdown",
   "metadata": {},
   "source": [
    "<b>Model#2:-</b>"
   ]
  },
  {
   "cell_type": "code",
   "execution_count": 18,
   "metadata": {},
   "outputs": [
    {
     "name": "stdout",
     "output_type": "stream",
     "text": [
      "0.00039125420669819557\n"
     ]
    },
    {
     "data": {
      "text/plain": [
       "<Figure size 3600x360 with 0 Axes>"
      ]
     },
     "metadata": {},
     "output_type": "display_data"
    },
    {
     "data": {
      "image/png": "[encoded data removed]",
      "text/plain": [
       "<Figure size 432x288 with 1 Axes>"
      ]
     },
     "metadata": {
      "needs_background": "light"
     },
     "output_type": "display_data"
    }
   ],
   "source": [
    "fore_df=plot_figure_get_result_df('mul','mul',31)"
   ]
  },
  {
   "cell_type": "markdown",
   "metadata": {},
   "source": [
    "<b>Model#2 Inferencing:-</b><br>\n",
    "1] Seems capturing good trend and cyclicity as compared to Model#1.\n",
    "2] Doesnot seems overfitted and p-value of residual is also below 0.05\n",
    "\n",
    "This model is a good candidate for final model"
   ]
  },
  {
   "cell_type": "markdown",
   "metadata": {},
   "source": [
    "<b>Model#3:-</b>"
   ]
  },
  {
   "cell_type": "code",
   "execution_count": 19,
   "metadata": {},
   "outputs": [
    {
     "name": "stdout",
     "output_type": "stream",
     "text": [
      "2.497469372648652e-17\n"
     ]
    },
    {
     "data": {
      "text/plain": [
       "<Figure size 3600x360 with 0 Axes>"
      ]
     },
     "metadata": {},
     "output_type": "display_data"
    },
    {
     "data": {
      "image/png": "[encoded data removed]",
      "text/plain": [
       "<Figure size 432x288 with 1 Axes>"
      ]
     },
     "metadata": {
      "needs_background": "light"
     },
     "output_type": "display_data"
    }
   ],
   "source": [
    "fore_df=plot_figure_get_result_df('add','add',31)"
   ]
  },
  {
   "cell_type": "markdown",
   "metadata": {},
   "source": [
    "<b>Model#3 Inferencing:-</b><br>\n",
    "1] Seems capturing good trend and cyclicity as compared to Model#2.<br>\n",
    "2] Doesnot seems overfitted and p-value of residual is also below 0.05.<br>\n",
    "3] p-value of this model is less than that of Model#2.<br>\n",
    "\n",
    "This model is a good candidate for final model,lets ignore Model#2 and take Model#3 as the <b>latest best</b>."
   ]
  },
  {
   "cell_type": "markdown",
   "metadata": {},
   "source": [
    "<b>Model#4 (BEST FINAL MODEL):-</b>"
   ]
  },
  {
   "cell_type": "code",
   "execution_count": 20,
   "metadata": {},
   "outputs": [
    {
     "name": "stdout",
     "output_type": "stream",
     "text": [
      "3.846342820848591e-07\n"
     ]
    },
    {
     "data": {
      "text/plain": [
       "<Figure size 3600x360 with 0 Axes>"
      ]
     },
     "metadata": {},
     "output_type": "display_data"
    },
    {
     "data": {
      "image/png": "[encoded data removed]",
      "text/plain": [
       "<Figure size 432x288 with 1 Axes>"
      ]
     },
     "metadata": {
      "needs_background": "light"
     },
     "output_type": "display_data"
    }
   ],
   "source": [
    "final_fore_df=plot_figure_get_result_df('add','add',41)"
   ]
  },
  {
   "cell_type": "markdown",
   "metadata": {},
   "source": [
    "<b>Result:-<b>"
   ]
  },
  {
   "cell_type": "markdown",
   "metadata": {},
   "source": [
    "<b>Model#4 Inferencing:-</b><br>\n",
    "1] Seems capturing good trend and cyclicity as compared to Model#3.<br>\n",
    "2] Doesnot seems overfitted and p-value of residual is also below 0.05.<br>\n",
    "3] p-value of this model is more than that of Model#3.<br>\n",
    "4] Seems to have less effect of downward trend after April 2020 (2020-04 on x-axis), hence this can be considered as best model.\n",
    "\n",
    "This model is a good and can be considered final model,lets ignore Model#3 and take Model#4 as the <b>latest best</b>."
   ]
  },
  {
   "cell_type": "markdown",
   "metadata": {},
   "source": [
    "<br><b>Forecasting results for 60 days:-</b>"
   ]
  },
  {
   "cell_type": "code",
   "execution_count": 21,
   "metadata": {},
   "outputs": [
    {
     "data": {
      "text/html": [
       "<div>\n",
       "<style scoped>\n",
       "    .dataframe tbody tr th:only-of-type {\n",
       "        vertical-align: middle;\n",
       "    }\n",
       "\n",
       "    .dataframe tbody tr th {\n",
       "        vertical-align: top;\n",
       "    }\n",
       "\n",
       "    .dataframe thead th {\n",
       "        text-align: right;\n",
       "    }\n",
       "</style>\n",
       "<table border=\"1\" class=\"dataframe\">\n",
       "  <thead>\n",
       "    <tr style=\"text-align: right;\">\n",
       "      <th></th>\n",
       "      <th>Forecasted</th>\n",
       "    </tr>\n",
       "    <tr>\n",
       "      <th>date</th>\n",
       "      <th></th>\n",
       "    </tr>\n",
       "  </thead>\n",
       "  <tbody>\n",
       "    <tr>\n",
       "      <th>2020-04-10</th>\n",
       "      <td>13963.389891</td>\n",
       "    </tr>\n",
       "    <tr>\n",
       "      <th>2020-04-11</th>\n",
       "      <td>14742.754550</td>\n",
       "    </tr>\n",
       "    <tr>\n",
       "      <th>2020-04-12</th>\n",
       "      <td>17220.403399</td>\n",
       "    </tr>\n",
       "    <tr>\n",
       "      <th>2020-04-13</th>\n",
       "      <td>17817.992575</td>\n",
       "    </tr>\n",
       "    <tr>\n",
       "      <th>2020-04-14</th>\n",
       "      <td>17868.232823</td>\n",
       "    </tr>\n",
       "    <tr>\n",
       "      <th>2020-04-15</th>\n",
       "      <td>18720.111555</td>\n",
       "    </tr>\n",
       "    <tr>\n",
       "      <th>2020-04-16</th>\n",
       "      <td>17444.405609</td>\n",
       "    </tr>\n",
       "    <tr>\n",
       "      <th>2020-04-17</th>\n",
       "      <td>17009.287438</td>\n",
       "    </tr>\n",
       "    <tr>\n",
       "      <th>2020-04-18</th>\n",
       "      <td>16349.791988</td>\n",
       "    </tr>\n",
       "    <tr>\n",
       "      <th>2020-04-19</th>\n",
       "      <td>16026.099152</td>\n",
       "    </tr>\n",
       "    <tr>\n",
       "      <th>2020-04-20</th>\n",
       "      <td>15879.425768</td>\n",
       "    </tr>\n",
       "    <tr>\n",
       "      <th>2020-04-21</th>\n",
       "      <td>15782.023468</td>\n",
       "    </tr>\n",
       "    <tr>\n",
       "      <th>2020-04-22</th>\n",
       "      <td>15366.399350</td>\n",
       "    </tr>\n",
       "    <tr>\n",
       "      <th>2020-04-23</th>\n",
       "      <td>15594.596314</td>\n",
       "    </tr>\n",
       "    <tr>\n",
       "      <th>2020-04-24</th>\n",
       "      <td>14858.178329</td>\n",
       "    </tr>\n",
       "    <tr>\n",
       "      <th>2020-04-25</th>\n",
       "      <td>14188.737868</td>\n",
       "    </tr>\n",
       "    <tr>\n",
       "      <th>2020-04-26</th>\n",
       "      <td>13629.586660</td>\n",
       "    </tr>\n",
       "    <tr>\n",
       "      <th>2020-04-27</th>\n",
       "      <td>12914.881289</td>\n",
       "    </tr>\n",
       "    <tr>\n",
       "      <th>2020-04-28</th>\n",
       "      <td>12181.621462</td>\n",
       "    </tr>\n",
       "    <tr>\n",
       "      <th>2020-04-29</th>\n",
       "      <td>11561.617194</td>\n",
       "    </tr>\n",
       "    <tr>\n",
       "      <th>2020-04-30</th>\n",
       "      <td>11673.866487</td>\n",
       "    </tr>\n",
       "    <tr>\n",
       "      <th>2020-05-01</th>\n",
       "      <td>12529.046987</td>\n",
       "    </tr>\n",
       "    <tr>\n",
       "      <th>2020-05-02</th>\n",
       "      <td>14856.718805</td>\n",
       "    </tr>\n",
       "    <tr>\n",
       "      <th>2020-05-03</th>\n",
       "      <td>15442.614841</td>\n",
       "    </tr>\n",
       "    <tr>\n",
       "      <th>2020-05-04</th>\n",
       "      <td>16148.434941</td>\n",
       "    </tr>\n",
       "    <tr>\n",
       "      <th>2020-05-05</th>\n",
       "      <td>16280.820722</td>\n",
       "    </tr>\n",
       "    <tr>\n",
       "      <th>2020-05-06</th>\n",
       "      <td>15244.428133</td>\n",
       "    </tr>\n",
       "    <tr>\n",
       "      <th>2020-05-07</th>\n",
       "      <td>13929.964001</td>\n",
       "    </tr>\n",
       "    <tr>\n",
       "      <th>2020-05-08</th>\n",
       "      <td>13551.962197</td>\n",
       "    </tr>\n",
       "    <tr>\n",
       "      <th>2020-05-09</th>\n",
       "      <td>13907.718216</td>\n",
       "    </tr>\n",
       "    <tr>\n",
       "      <th>2020-05-10</th>\n",
       "      <td>13728.720642</td>\n",
       "    </tr>\n",
       "    <tr>\n",
       "      <th>2020-05-11</th>\n",
       "      <td>13290.220594</td>\n",
       "    </tr>\n",
       "    <tr>\n",
       "      <th>2020-05-12</th>\n",
       "      <td>14215.821489</td>\n",
       "    </tr>\n",
       "    <tr>\n",
       "      <th>2020-05-13</th>\n",
       "      <td>14760.502376</td>\n",
       "    </tr>\n",
       "    <tr>\n",
       "      <th>2020-05-14</th>\n",
       "      <td>15021.525341</td>\n",
       "    </tr>\n",
       "    <tr>\n",
       "      <th>2020-05-15</th>\n",
       "      <td>14233.571915</td>\n",
       "    </tr>\n",
       "    <tr>\n",
       "      <th>2020-05-16</th>\n",
       "      <td>13881.313897</td>\n",
       "    </tr>\n",
       "    <tr>\n",
       "      <th>2020-05-17</th>\n",
       "      <td>13233.064972</td>\n",
       "    </tr>\n",
       "    <tr>\n",
       "      <th>2020-05-18</th>\n",
       "      <td>12878.722294</td>\n",
       "    </tr>\n",
       "    <tr>\n",
       "      <th>2020-05-19</th>\n",
       "      <td>12647.052723</td>\n",
       "    </tr>\n",
       "    <tr>\n",
       "      <th>2020-05-20</th>\n",
       "      <td>13260.695450</td>\n",
       "    </tr>\n",
       "    <tr>\n",
       "      <th>2020-05-21</th>\n",
       "      <td>14029.833132</td>\n",
       "    </tr>\n",
       "    <tr>\n",
       "      <th>2020-05-22</th>\n",
       "      <td>14809.197792</td>\n",
       "    </tr>\n",
       "    <tr>\n",
       "      <th>2020-05-23</th>\n",
       "      <td>17286.846640</td>\n",
       "    </tr>\n",
       "    <tr>\n",
       "      <th>2020-05-24</th>\n",
       "      <td>17884.435816</td>\n",
       "    </tr>\n",
       "    <tr>\n",
       "      <th>2020-05-25</th>\n",
       "      <td>17934.676064</td>\n",
       "    </tr>\n",
       "    <tr>\n",
       "      <th>2020-05-26</th>\n",
       "      <td>18786.554797</td>\n",
       "    </tr>\n",
       "    <tr>\n",
       "      <th>2020-05-27</th>\n",
       "      <td>17510.848850</td>\n",
       "    </tr>\n",
       "    <tr>\n",
       "      <th>2020-05-28</th>\n",
       "      <td>17075.730679</td>\n",
       "    </tr>\n",
       "    <tr>\n",
       "      <th>2020-05-29</th>\n",
       "      <td>16416.235230</td>\n",
       "    </tr>\n",
       "    <tr>\n",
       "      <th>2020-05-30</th>\n",
       "      <td>16092.542393</td>\n",
       "    </tr>\n",
       "    <tr>\n",
       "      <th>2020-05-31</th>\n",
       "      <td>15945.869009</td>\n",
       "    </tr>\n",
       "    <tr>\n",
       "      <th>2020-06-01</th>\n",
       "      <td>15848.466709</td>\n",
       "    </tr>\n",
       "    <tr>\n",
       "      <th>2020-06-02</th>\n",
       "      <td>15432.842591</td>\n",
       "    </tr>\n",
       "    <tr>\n",
       "      <th>2020-06-03</th>\n",
       "      <td>15661.039555</td>\n",
       "    </tr>\n",
       "    <tr>\n",
       "      <th>2020-06-04</th>\n",
       "      <td>14924.621570</td>\n",
       "    </tr>\n",
       "    <tr>\n",
       "      <th>2020-06-05</th>\n",
       "      <td>14255.181110</td>\n",
       "    </tr>\n",
       "    <tr>\n",
       "      <th>2020-06-06</th>\n",
       "      <td>13696.029901</td>\n",
       "    </tr>\n",
       "    <tr>\n",
       "      <th>2020-06-07</th>\n",
       "      <td>12981.324530</td>\n",
       "    </tr>\n",
       "    <tr>\n",
       "      <th>2020-06-08</th>\n",
       "      <td>12248.064704</td>\n",
       "    </tr>\n",
       "  </tbody>\n",
       "</table>\n",
       "</div>"
      ],
      "text/plain": [
       "              Forecasted\n",
       "date                    \n",
       "2020-04-10  13963.389891\n",
       "2020-04-11  14742.754550\n",
       "2020-04-12  17220.403399\n",
       "2020-04-13  17817.992575\n",
       "2020-04-14  17868.232823\n",
       "2020-04-15  18720.111555\n",
       "2020-04-16  17444.405609\n",
       "2020-04-17  17009.287438\n",
       "2020-04-18  16349.791988\n",
       "2020-04-19  16026.099152\n",
       "2020-04-20  15879.425768\n",
       "2020-04-21  15782.023468\n",
       "2020-04-22  15366.399350\n",
       "2020-04-23  15594.596314\n",
       "2020-04-24  14858.178329\n",
       "2020-04-25  14188.737868\n",
       "2020-04-26  13629.586660\n",
       "2020-04-27  12914.881289\n",
       "2020-04-28  12181.621462\n",
       "2020-04-29  11561.617194\n",
       "2020-04-30  11673.866487\n",
       "2020-05-01  12529.046987\n",
       "2020-05-02  14856.718805\n",
       "2020-05-03  15442.614841\n",
       "2020-05-04  16148.434941\n",
       "2020-05-05  16280.820722\n",
       "2020-05-06  15244.428133\n",
       "2020-05-07  13929.964001\n",
       "2020-05-08  13551.962197\n",
       "2020-05-09  13907.718216\n",
       "2020-05-10  13728.720642\n",
       "2020-05-11  13290.220594\n",
       "2020-05-12  14215.821489\n",
       "2020-05-13  14760.502376\n",
       "2020-05-14  15021.525341\n",
       "2020-05-15  14233.571915\n",
       "2020-05-16  13881.313897\n",
       "2020-05-17  13233.064972\n",
       "2020-05-18  12878.722294\n",
       "2020-05-19  12647.052723\n",
       "2020-05-20  13260.695450\n",
       "2020-05-21  14029.833132\n",
       "2020-05-22  14809.197792\n",
       "2020-05-23  17286.846640\n",
       "2020-05-24  17884.435816\n",
       "2020-05-25  17934.676064\n",
       "2020-05-26  18786.554797\n",
       "2020-05-27  17510.848850\n",
       "2020-05-28  17075.730679\n",
       "2020-05-29  16416.235230\n",
       "2020-05-30  16092.542393\n",
       "2020-05-31  15945.869009\n",
       "2020-06-01  15848.466709\n",
       "2020-06-02  15432.842591\n",
       "2020-06-03  15661.039555\n",
       "2020-06-04  14924.621570\n",
       "2020-06-05  14255.181110\n",
       "2020-06-06  13696.029901\n",
       "2020-06-07  12981.324530\n",
       "2020-06-08  12248.064704"
      ]
     },
     "execution_count": 21,
     "metadata": {},
     "output_type": "execute_result"
    }
   ],
   "source": [
    "final_fore_df"
   ]
  },
  {
   "cell_type": "markdown",
   "metadata": {},
   "source": [
    "## Question 5: Data Analysis\n",
    "\n",
    "A new startup, EZ Yard, has recently caught the attention of Frontdoor leadership due to its relevance in \"taking the hassle out of home ownership\".  EZ Yard promises to keep your yard beautiful for a monthly subscription.\n",
    "\n",
    "The founders of EZ Yard have recently approached Frontdoor, to see if Frontdoor would be interested in acquiring their company.  As a Data Scientist at Frontdoor, you have been asked to help evaluate if acquiring EZ Yard would be a good investment.  \n",
    "\n",
    "You have been provided two resources to help with your analysis; a company fact sheet provided by ShinyFancyObjects, and a table containing data about their customer history.  Using these two pieces of information, would you recommend acquisition of EZ Yard as a long-term investment, and explain why or why not.\n",
    "\n",
    "\n",
    "**EZ Yard Fact Sheet; Helping you have a green lawn without the hassle**\n",
    "\n",
    "* EZ Yard posses a customer file of nearly twenty thousand unique customers.  \n",
    "* Since its launch in January 2020, EZ Yard is growing its customer base by 10%.\n",
    "* There was a new service offerings release in November of 2020, which was a huge hit with our customers, resulting in a 46% increase in new customers from the prior month.  \n",
    "* The company predicts it will more than double its customer base in the next year.  \n",
    "* The January 2021 gain for new customers was a 120% improvement over of January of 2020. \n",
    "* Since January of 2020, EZ Yard has grown its customer base by 1,841%.\n",
    "* EZ Yard boasts a customer retention rate of 58%.  \n",
    "\n",
    "**Customer History**\n",
    "\n",
    "This table shows new customers acquired by month, along with how many of those same customers remained active in the following months.  As an example, in January 2020, 1,098 new customers were acquired.  One month later, out of the initial 1,098, only 875 were still active, two months later, 800 were active, and so on.  Whereas in February of 2020, 1,358 new customers were acquired, of which 500 were still active six months after. \n",
    "\n",
    "| Cohort | Month 0 | Month 1  | Month 2 | Month 3 | Month 4 | Month 5 | Month 6 | Month 7 | Month 8 | Month 9 | Month 10 | Month 11 | Month 12 | Month 13 | \n",
    "|--------|---------|----------|---------|---------|---------|---------|---------|---------|---------|---------|----------|----------|----------|----------| \n",
    "| Jan-20 | 1098    | 875      | 800     | 765     | 552     | 421     | 403     | 382     | 367     | 341     | 295      | 244      | 201      | 185      | \n",
    "| Feb-20 | 1358    | 1019     | 996     | 826     | 713     | 524     | 500     | 495     | 389     | 301     | 257      | 178      | 133      |          | \n",
    "| Mar-20 | 1257    | 892      | 741     | 705     | 648     | 498     | 395     | 205     | 168     | 132     | 121      | 84       |          |          | \n",
    "| Apr-20 | 1587    | 1174     | 924     | 838     | 699     | 354     | 205     | 158     | 104     | 79      | 55       |          |          |          | \n",
    "| May-20 | 1758    | 1213     | 1000    | 751     | 605     | 305     | 165     | 111     | 90      | 65      |          |          |          |          | \n",
    "| Jun-20 | 1624    | 1137     | 954     | 754     | 403     | 248     | 205     | 165     | 100     |         |          |          |          |          | \n",
    "| Jul-20 | 1541    | 1002     | 874     | 621     | 322     | 201     | 168     | 105     |         |         |          |          |          |          | \n",
    "| Aug-20 | 868     | 521      | 499     | 400     | 158     | 118     | 75      |         |         |         |          |          |          |          | \n",
    "| Sep-20 | 1143    | 629      | 451     | 384     | 205     | 100     |         |         |         |         |          |          |          |          | \n",
    "| Oct-20 | 1253    | 639      | 338     | 255     | 117     |         |         |         |         |         |          |          |          |          | \n",
    "| Nov-20 | 1835    | 899      | 241     | 107     |         |         |         |         |         |         |          |          |          |          | \n",
    "| Dec-20 | 2155    | 862      | 205     |         |         |         |         |         |         |         |          |          |          |          | \n",
    "| Jan-21 | 2422    | 848      |         |         |         |         |         |         |         |         |          |          |          |          | \n",
    "| Feb-21 | 2531    |          |         |         |         |         |         |         |         |         |          |          |          |          | \n",
    "\n",
    "*Bonus Question:* What other data sources would be helpful in making your recommendation? "
   ]
  },
  {
   "cell_type": "markdown",
   "metadata": {},
   "source": [
    "<h4>Question 5:Part1: Data Analysis</h4>"
   ]
  },
  {
   "cell_type": "markdown",
   "metadata": {},
   "source": [
    "Data Preparation:-"
   ]
  },
  {
   "cell_type": "code",
   "execution_count": 22,
   "metadata": {},
   "outputs": [],
   "source": [
    "import datetime as dt\n",
    "import dateutil\n",
    "\n",
    "# Load the given data into pandas dataframe\n",
    "customer_history_str=StringIO(\"\"\"Cohort,Jan-20,Feb-20,Mar-20,Apr-20,May-20,Jun-20,Jul-20,Aug-20,Sep-20,Oct-20,Nov-20,Dec-20,Jan-21,Feb-21\n",
    "Month 0,1098,1358,1257,1587,1758,1624,1541,868,1143,1253,1835,2155,2422,2531\n",
    "Month 1,875,1019,892,1174,1213,1137,1002,521,629,639,899,862,848,0\n",
    "Month 2,800,996,741,924,1000,954,874,499,451,338,241,205,0,0\n",
    "Month 3,765,826,705,838,751,754,621,400,384,255,107,0,0,0\n",
    "Month 4,552,713,648,699,605,403,322,158,205,117,0,0,0,0\n",
    "Month 5,421,524,498,354,305,248,201,118,100,0,0,0,0,0\n",
    "Month 6,403,500,395,205,165,205,168,75,0,0,0,0,0,0\n",
    "Month 7,382,495,205,158,111,165,105,0,0,0,0,0,0,0\n",
    "Month 8,367,389,168,104,90,100,0,0,0,0,0,0,0,0\n",
    "Month 9,341,301,132,79,65,0,0,0,0,0,0,0,0,0\n",
    "Month 10,295,257,121,55,0,0,0,0,0,0,0,0,0,0\n",
    "Month 11,244,178,84,0,0,0,0,0,0,0,0,0,0,0\n",
    "Month 12,201,133,0,0,0,0,0,0,0,0,0,0,0,0\n",
    "Month 13,185,0,0,0,0,0,0,0,0,0,0,0,0,0\"\"\")\n",
    "customer_history=pd.read_csv(customer_history_str)\n",
    "\n",
    "# Melt the sparse matrix to get data into row format with columns --->('Cohort','Month','customers')\n",
    "customer_df=customer_history.melt(id_vars=['Cohort'],var_name='Month', value_name='customers')\n",
    "# Remove all records with '0' customers\n",
    "customer_df=customer_df.loc[customer_df.customers!=0,:]\n",
    "\n",
    "# Create a 'cohort_idx' for ease of calculation which is numerical part in month like 'Month 0' --> '0'\n",
    "customer_df['cohort_idx']=customer_df['Cohort'].apply(lambda x:int(x.split(' ')[-1]))\n",
    "\n",
    "# Convert Month to data for ease for calculations\n",
    "customer_df['Month']=pd.to_datetime(customer_df['Month'],format='%b-%y')\n",
    "\n",
    "# Create a subsequent_months , which will hold the subsequent month , to the month present int 'Month' column\n",
    "# This is calculated by adding cohort_idx as months to 'Month' column\n",
    "customer_df['subsequent_months']=customer_df.apply(lambda x:x['Month'] + pd.DateOffset(months =x['cohort_idx']),axis=1)"
   ]
  },
  {
   "cell_type": "markdown",
   "metadata": {},
   "source": [
    "Lets generate the following variables for further analysis:-<br>\n",
    "* <b>total_customer_till_date:</b> cumulative sum of total customers(active and inactive) registered in the system.\n",
    "* <b>active_customer_count:</b> Total number of customer who are still subscribed to EZ Yard service till corresponding month<br>\n",
    "* <b>attr_customer_count:</b> Total number of customer who were subscribed till last month but did not continued the subscription of EX Yard services for this month <br>\n",
    "* <b>total_attrition_per:</b> % of customers from previous month who have not who were subscribed till last month but did not continued the subscription of EX Yard services for this month\n",
    "* <b>total_retension_per:</b> % of customers from previous month who are also subscribed for this month\n",
    "* <b>per_increase_in_customers:</b>% increase/decrease of active customers (customer who are still subscribed to the service, compared to last month)<br><br>\n",
    "\n",
    "<b>Assumption and Terminology used:-</b><br>\n",
    "* <b>Customer Base:</b> All customer who have subscribed atleast for a month in the system.\n",
    "* <b>Active Customers:</b> All customer who are still subscribed to EZ Yard service.\n",
    "* <b>Retained Customer:</b> Customers who were active last month and are also active in current month."
   ]
  },
  {
   "cell_type": "code",
   "execution_count": 23,
   "metadata": {},
   "outputs": [],
   "source": [
    "import seaborn as sns\n",
    "# Calculation of serving customers for each month\n",
    "import seaborn as sns\n",
    "from datetime import datetime\n",
    "from dateutil.relativedelta import relativedelta\n",
    "# Calculation of customer atrition\n",
    "\n",
    "def substract_month_to_numpy(date, months):\n",
    "    ''' This function substracts months to date in datetime64 format\n",
    "    '''\n",
    "    year, month, day = str(date)[:10].split(\"-\")\n",
    "    d = datetime(int(year), int(month), int(day))\n",
    "    delta = relativedelta(months=months)\n",
    "    the_date = d - delta\n",
    "    new_npdt = np.datetime64(the_date.isoformat())    \n",
    "    return new_npdt\n",
    "\n",
    "# The below loop calculates all required variables , to be used in below analysis\n",
    "result_df=pd.DataFrame([])\n",
    "for i in customer_df['Month'].unique():\n",
    "    \n",
    "    # Calculating active_customer_count in the system\n",
    "    active_customer_count=customer_df.loc[(customer_df.subsequent_months==i),'customers'].sum()\n",
    "    \n",
    "    # Calculating total_attrition_per and  total_retension_per\n",
    "    cust_count_curr_mon=customer_df.loc[(customer_df.cohort_idx!=0) & (customer_df.subsequent_months==i),'customers'].values    \n",
    "    cust_count_prev_mon=customer_df.loc[(customer_df.subsequent_months==substract_month_to_numpy(i,1)),'customers'].values        \n",
    "    total_attrition=np.sum(cust_count_prev_mon-cust_count_curr_mon)    \n",
    "    total_attrition_per=np.sum(cust_count_prev_mon-cust_count_curr_mon)/np.sum(cust_count_prev_mon)\n",
    "    total_retension_per=np.sum(cust_count_curr_mon)/np.sum(cust_count_prev_mon)\n",
    "    \n",
    "    result_df=result_df.append({'Month':i,\n",
    "                                'customers':customer_df.loc[(customer_df.cohort_idx==0) & (customer_df.subsequent_months==i),'customers'].values[0],\n",
    "                                'active_customer_count':active_customer_count,\n",
    "                                'attr_customer_count':total_attrition,\n",
    "                                'total_attrition_per':total_attrition_per,\n",
    "                                'total_retension_per':total_retension_per\n",
    "                               },ignore_index=True)\n",
    "    \n",
    "result_df['active_customer_count_pre']=result_df['active_customer_count'].shift(1)\n",
    "result_df['per_increase_in_customers']=(result_df['active_customer_count']-result_df['active_customer_count_pre'])/result_df['active_customer_count_pre']\n",
    "result_df['total_customer_till_date']=result_df['customers'].cumsum()"
   ]
  },
  {
   "cell_type": "code",
   "execution_count": 24,
   "metadata": {},
   "outputs": [
    {
     "data": {
      "text/html": [
       "<div>\n",
       "<style scoped>\n",
       "    .dataframe tbody tr th:only-of-type {\n",
       "        vertical-align: middle;\n",
       "    }\n",
       "\n",
       "    .dataframe tbody tr th {\n",
       "        vertical-align: top;\n",
       "    }\n",
       "\n",
       "    .dataframe thead th {\n",
       "        text-align: right;\n",
       "    }\n",
       "</style>\n",
       "<table border=\"1\" class=\"dataframe\">\n",
       "  <thead>\n",
       "    <tr style=\"text-align: right;\">\n",
       "      <th></th>\n",
       "      <th>Month</th>\n",
       "      <th>active_customer_count</th>\n",
       "      <th>attr_customer_count</th>\n",
       "      <th>customers</th>\n",
       "      <th>total_attrition_per</th>\n",
       "      <th>total_retension_per</th>\n",
       "      <th>active_customer_count_pre</th>\n",
       "      <th>per_increase_in_customers</th>\n",
       "      <th>total_customer_till_date</th>\n",
       "    </tr>\n",
       "  </thead>\n",
       "  <tbody>\n",
       "    <tr>\n",
       "      <th>0</th>\n",
       "      <td>2020-01-01</td>\n",
       "      <td>1098.0</td>\n",
       "      <td>0.0</td>\n",
       "      <td>1098.0</td>\n",
       "      <td>NaN</td>\n",
       "      <td>NaN</td>\n",
       "      <td>NaN</td>\n",
       "      <td>NaN</td>\n",
       "      <td>1098.0</td>\n",
       "    </tr>\n",
       "    <tr>\n",
       "      <th>1</th>\n",
       "      <td>2020-02-01</td>\n",
       "      <td>2233.0</td>\n",
       "      <td>223.0</td>\n",
       "      <td>1358.0</td>\n",
       "      <td>0.203097</td>\n",
       "      <td>0.796903</td>\n",
       "      <td>1098.0</td>\n",
       "      <td>1.033698</td>\n",
       "      <td>2456.0</td>\n",
       "    </tr>\n",
       "    <tr>\n",
       "      <th>2</th>\n",
       "      <td>2020-03-01</td>\n",
       "      <td>3076.0</td>\n",
       "      <td>414.0</td>\n",
       "      <td>1257.0</td>\n",
       "      <td>0.185401</td>\n",
       "      <td>0.814599</td>\n",
       "      <td>2233.0</td>\n",
       "      <td>0.377519</td>\n",
       "      <td>3713.0</td>\n",
       "    </tr>\n",
       "    <tr>\n",
       "      <th>3</th>\n",
       "      <td>2020-04-01</td>\n",
       "      <td>4240.0</td>\n",
       "      <td>423.0</td>\n",
       "      <td>1587.0</td>\n",
       "      <td>0.137516</td>\n",
       "      <td>0.862484</td>\n",
       "      <td>3076.0</td>\n",
       "      <td>0.378414</td>\n",
       "      <td>5300.0</td>\n",
       "    </tr>\n",
       "    <tr>\n",
       "      <th>4</th>\n",
       "      <td>2020-05-01</td>\n",
       "      <td>5051.0</td>\n",
       "      <td>947.0</td>\n",
       "      <td>1758.0</td>\n",
       "      <td>0.223349</td>\n",
       "      <td>0.776651</td>\n",
       "      <td>4240.0</td>\n",
       "      <td>0.191274</td>\n",
       "      <td>7058.0</td>\n",
       "    </tr>\n",
       "    <tr>\n",
       "      <th>5</th>\n",
       "      <td>2020-06-01</td>\n",
       "      <td>5600.0</td>\n",
       "      <td>1075.0</td>\n",
       "      <td>1624.0</td>\n",
       "      <td>0.212829</td>\n",
       "      <td>0.787171</td>\n",
       "      <td>5051.0</td>\n",
       "      <td>0.108691</td>\n",
       "      <td>8682.0</td>\n",
       "    </tr>\n",
       "    <tr>\n",
       "      <th>6</th>\n",
       "      <td>2020-07-01</td>\n",
       "      <td>6091.0</td>\n",
       "      <td>1050.0</td>\n",
       "      <td>1541.0</td>\n",
       "      <td>0.187500</td>\n",
       "      <td>0.812500</td>\n",
       "      <td>5600.0</td>\n",
       "      <td>0.087679</td>\n",
       "      <td>10223.0</td>\n",
       "    </tr>\n",
       "    <tr>\n",
       "      <th>7</th>\n",
       "      <td>2020-08-01</td>\n",
       "      <td>5654.0</td>\n",
       "      <td>1305.0</td>\n",
       "      <td>868.0</td>\n",
       "      <td>0.214251</td>\n",
       "      <td>0.785749</td>\n",
       "      <td>6091.0</td>\n",
       "      <td>-0.071745</td>\n",
       "      <td>11091.0</td>\n",
       "    </tr>\n",
       "    <tr>\n",
       "      <th>8</th>\n",
       "      <td>2020-09-01</td>\n",
       "      <td>5508.0</td>\n",
       "      <td>1289.0</td>\n",
       "      <td>1143.0</td>\n",
       "      <td>0.227980</td>\n",
       "      <td>0.772020</td>\n",
       "      <td>5654.0</td>\n",
       "      <td>-0.025822</td>\n",
       "      <td>12234.0</td>\n",
       "    </tr>\n",
       "    <tr>\n",
       "      <th>9</th>\n",
       "      <td>2020-10-01</td>\n",
       "      <td>4850.0</td>\n",
       "      <td>1911.0</td>\n",
       "      <td>1253.0</td>\n",
       "      <td>0.346950</td>\n",
       "      <td>0.653050</td>\n",
       "      <td>5508.0</td>\n",
       "      <td>-0.119463</td>\n",
       "      <td>13487.0</td>\n",
       "    </tr>\n",
       "    <tr>\n",
       "      <th>10</th>\n",
       "      <td>2020-11-01</td>\n",
       "      <td>4982.0</td>\n",
       "      <td>1703.0</td>\n",
       "      <td>1835.0</td>\n",
       "      <td>0.351134</td>\n",
       "      <td>0.648866</td>\n",
       "      <td>4850.0</td>\n",
       "      <td>0.027216</td>\n",
       "      <td>15322.0</td>\n",
       "    </tr>\n",
       "    <tr>\n",
       "      <th>11</th>\n",
       "      <td>2020-12-01</td>\n",
       "      <td>5188.0</td>\n",
       "      <td>1949.0</td>\n",
       "      <td>2155.0</td>\n",
       "      <td>0.391208</td>\n",
       "      <td>0.608792</td>\n",
       "      <td>4982.0</td>\n",
       "      <td>0.041349</td>\n",
       "      <td>17477.0</td>\n",
       "    </tr>\n",
       "    <tr>\n",
       "      <th>12</th>\n",
       "      <td>2021-01-01</td>\n",
       "      <td>5105.0</td>\n",
       "      <td>2505.0</td>\n",
       "      <td>2422.0</td>\n",
       "      <td>0.482845</td>\n",
       "      <td>0.517155</td>\n",
       "      <td>5188.0</td>\n",
       "      <td>-0.015998</td>\n",
       "      <td>19899.0</td>\n",
       "    </tr>\n",
       "    <tr>\n",
       "      <th>13</th>\n",
       "      <td>2021-02-01</td>\n",
       "      <td>4710.0</td>\n",
       "      <td>2926.0</td>\n",
       "      <td>2531.0</td>\n",
       "      <td>0.573164</td>\n",
       "      <td>0.426836</td>\n",
       "      <td>5105.0</td>\n",
       "      <td>-0.077375</td>\n",
       "      <td>22430.0</td>\n",
       "    </tr>\n",
       "  </tbody>\n",
       "</table>\n",
       "</div>"
      ],
      "text/plain": [
       "        Month  active_customer_count  attr_customer_count  customers  \\\n",
       "0  2020-01-01                 1098.0                  0.0     1098.0   \n",
       "1  2020-02-01                 2233.0                223.0     1358.0   \n",
       "2  2020-03-01                 3076.0                414.0     1257.0   \n",
       "3  2020-04-01                 4240.0                423.0     1587.0   \n",
       "4  2020-05-01                 5051.0                947.0     1758.0   \n",
       "5  2020-06-01                 5600.0               1075.0     1624.0   \n",
       "6  2020-07-01                 6091.0               1050.0     1541.0   \n",
       "7  2020-08-01                 5654.0               1305.0      868.0   \n",
       "8  2020-09-01                 5508.0               1289.0     1143.0   \n",
       "9  2020-10-01                 4850.0               1911.0     1253.0   \n",
       "10 2020-11-01                 4982.0               1703.0     1835.0   \n",
       "11 2020-12-01                 5188.0               1949.0     2155.0   \n",
       "12 2021-01-01                 5105.0               2505.0     2422.0   \n",
       "13 2021-02-01                 4710.0               2926.0     2531.0   \n",
       "\n",
       "    total_attrition_per  total_retension_per  active_customer_count_pre  \\\n",
       "0                   NaN                  NaN                        NaN   \n",
       "1              0.203097             0.796903                     1098.0   \n",
       "2              0.185401             0.814599                     2233.0   \n",
       "3              0.137516             0.862484                     3076.0   \n",
       "4              0.223349             0.776651                     4240.0   \n",
       "5              0.212829             0.787171                     5051.0   \n",
       "6              0.187500             0.812500                     5600.0   \n",
       "7              0.214251             0.785749                     6091.0   \n",
       "8              0.227980             0.772020                     5654.0   \n",
       "9              0.346950             0.653050                     5508.0   \n",
       "10             0.351134             0.648866                     4850.0   \n",
       "11             0.391208             0.608792                     4982.0   \n",
       "12             0.482845             0.517155                     5188.0   \n",
       "13             0.573164             0.426836                     5105.0   \n",
       "\n",
       "    per_increase_in_customers  total_customer_till_date  \n",
       "0                         NaN                    1098.0  \n",
       "1                    1.033698                    2456.0  \n",
       "2                    0.377519                    3713.0  \n",
       "3                    0.378414                    5300.0  \n",
       "4                    0.191274                    7058.0  \n",
       "5                    0.108691                    8682.0  \n",
       "6                    0.087679                   10223.0  \n",
       "7                   -0.071745                   11091.0  \n",
       "8                   -0.025822                   12234.0  \n",
       "9                   -0.119463                   13487.0  \n",
       "10                   0.027216                   15322.0  \n",
       "11                   0.041349                   17477.0  \n",
       "12                  -0.015998                   19899.0  \n",
       "13                  -0.077375                   22430.0  "
      ]
     },
     "execution_count": 24,
     "metadata": {},
     "output_type": "execute_result"
    }
   ],
   "source": [
    "result_df"
   ]
  },
  {
   "cell_type": "markdown",
   "metadata": {},
   "source": [
    "**Fact verification in 'EZ Yard Fact Sheet':-**"
   ]
  },
  {
   "cell_type": "markdown",
   "metadata": {},
   "source": [
    "<h4>1] EZ Yard posses a customer file of nearly twenty thousand unique customers? </h4><br>\n",
    "<b>Answer:</b>\n",
    "</t></t>   <b>Yes</b> but as of 'Feb-2021', out of these only (6091) 21% have active subscription."
   ]
  },
  {
   "cell_type": "code",
   "execution_count": 25,
   "metadata": {},
   "outputs": [
    {
     "name": "stdout",
     "output_type": "stream",
     "text": [
      "Total Customer who have subscribed to the services for atleast a month: 22430\n"
     ]
    }
   ],
   "source": [
    "# Total Customer base (Customers who have subscribed to the services for atleast a month)\n",
    "print('Total Customer who have subscribed to the services for atleast a month:',customer_df.loc[customer_df.cohort_idx==0,'customers'].sum())"
   ]
  },
  {
   "cell_type": "code",
   "execution_count": 26,
   "metadata": {},
   "outputs": [
    {
     "name": "stdout",
     "output_type": "stream",
     "text": [
      "Total Customer who are still active as of Feb-2021: 4710 ( 21 %)\n"
     ]
    }
   ],
   "source": [
    "# Calculate active customers\n",
    "print('Total Customer who are still active as of Feb-2021:',int(customer_df.loc[(customer_df.subsequent_months=='2021-02-01'),'customers'].sum()),'(',int(np.round(4710/22430,2)*100),'%)')"
   ]
  },
  {
   "attachments": {
    "image.png": {
     "image/png": "[encoded data removed]"
    }
   },
   "cell_type": "markdown",
   "metadata": {},
   "source": [
    "<h4>2] Since its launch in January 2020, EZ Yard is growing its customer base by 10%?</h4><br>\n",
    "<b>Assumption</b> : Growth in customer base by 10% has been considered as <b>average monthly growth</b>. <br>\n",
    "\n",
    "<b>Answer:</b> From the given data the <b>average monthly growth</b> in customer base seem <b>8%</b> which is near to <b>10%</b> as mentionedin the Fact Sheet. The below plots shows the montly increse in % of <i>Customer Base</i> in current month compared to previous month,irrespective of weather the customer is <i>Active Customer</i> or not.\n",
    "\n",
    "As depicted in the plot below:-\n",
    "\n",
    "![image.png](attachment:image.png)"
   ]
  },
  {
   "cell_type": "markdown",
   "metadata": {},
   "source": [
    "Code:-"
   ]
  },
  {
   "cell_type": "code",
   "execution_count": 27,
   "metadata": {},
   "outputs": [
    {
     "data": {
      "text/plain": [
       "<matplotlib.legend.Legend at 0x279bca2a5b0>"
      ]
     },
     "execution_count": 27,
     "metadata": {},
     "output_type": "execute_result"
    },
    {
     "data": {
      "image/png": "[encoded data removed]",
      "text/plain": [
       "<Figure size 432x288 with 1 Axes>"
      ]
     },
     "metadata": {
      "needs_background": "light"
     },
     "output_type": "display_data"
    }
   ],
   "source": [
    "# Code to generate the below plot\n",
    "result_df['customers_lag']=result_df['customers'].shift(1)\n",
    "result_df['per_inc_cus_base']=(result_df['customers']-result_df['customers_lag'])/result_df['customers_lag']\n",
    "\n",
    "\n",
    "sns.regplot(result_df.index,\n",
    "            np.round(result_df['per_inc_cus_base']*100).fillna(0).astype('int'),\n",
    "            ci=None,fit_reg=False,\n",
    "            robust=True,\n",
    "            line_kws={\"linestyle\": \"--\",\"color\":\"orange\",'alpha':0.5})\n",
    "plt.axhline(y=8,linestyle=\"--\",color=\"orange\",label=\"average increase per month\")\n",
    "plt.xticks(range(0,14))\n",
    "plt.gca().set_xticklabels([x.strftime('%b-%y') for x in result_df['Month']])\n",
    "plt.xticks(rotation=45)\n",
    "average_per_increase_per_month=int(np.round(np.mean(result_df['per_inc_cus_base'].fillna(0)),2)*100)\n",
    "plt.gca().set_title('Average increase per month:' + str(average_per_increase_per_month)+ '%')\n",
    "plt.gca().set_ylabel('% of new customers added')\n",
    "plt.legend()"
   ]
  },
  {
   "cell_type": "markdown",
   "metadata": {},
   "source": [
    "<h4>3] There was a new service offerings release in November of 2020, which was a huge hit with our customers, resulting in a 46% increase in new customers from the prior month?</h4><br>\n",
    "\n",
    "<b>Answer:</b> Yes there is 46.4% increase in new customer from prior month\n",
    "   \n",
    "    "
   ]
  },
  {
   "cell_type": "code",
   "execution_count": 28,
   "metadata": {},
   "outputs": [
    {
     "data": {
      "text/html": [
       "<div>\n",
       "<style scoped>\n",
       "    .dataframe tbody tr th:only-of-type {\n",
       "        vertical-align: middle;\n",
       "    }\n",
       "\n",
       "    .dataframe tbody tr th {\n",
       "        vertical-align: top;\n",
       "    }\n",
       "\n",
       "    .dataframe thead th {\n",
       "        text-align: right;\n",
       "    }\n",
       "</style>\n",
       "<table border=\"1\" class=\"dataframe\">\n",
       "  <thead>\n",
       "    <tr style=\"text-align: right;\">\n",
       "      <th></th>\n",
       "      <th>Month</th>\n",
       "      <th>per_inc_cus_base</th>\n",
       "    </tr>\n",
       "  </thead>\n",
       "  <tbody>\n",
       "    <tr>\n",
       "      <th>10</th>\n",
       "      <td>2020-11-01</td>\n",
       "      <td>0.464485</td>\n",
       "    </tr>\n",
       "    <tr>\n",
       "      <th>11</th>\n",
       "      <td>2020-12-01</td>\n",
       "      <td>0.174387</td>\n",
       "    </tr>\n",
       "  </tbody>\n",
       "</table>\n",
       "</div>"
      ],
      "text/plain": [
       "        Month  per_inc_cus_base\n",
       "10 2020-11-01          0.464485\n",
       "11 2020-12-01          0.174387"
      ]
     },
     "execution_count": 28,
     "metadata": {},
     "output_type": "execute_result"
    }
   ],
   "source": [
    "# Lets check the per_inc_cus_base value for month of November\n",
    "result_df.loc[result_df.Month.isin(['2020-11-01','2020-12-01']),['Month','per_inc_cus_base']]"
   ]
  },
  {
   "attachments": {
    "image-5.png": {
     "image/png": "[encoded data removed]"
    }
   },
   "cell_type": "markdown",
   "metadata": {},
   "source": [
    "<h4>4] The company predicts it will more than double its customer base in the next year?</h4>\n",
    "\n",
    "<b>Answer:</b><br> Yes the figure seems achievable as per the provided data\n",
    "* Total customer count for 2020 : 17477<br>\n",
    "* Expected customer count for 2021 : 36382<br>\n",
    "* % Increase in 2021 : 108 %<br><br>\n",
    "\n",
    "We might need to imvestigate more the campaigns they run to increase <i><b>Base customer</b></i> and <i><b>Active customers</b></i> .\n",
    "\n",
    "Although the figure seems impressing but, these numbers are of <i><b>Base customer</b></i>, who have subscribed to the service atleast once. The number of <i><b>Active customers</b></i> are likely to reduce or somewhat flatten (with variations between 4000to 4500) over the months after May-2020 as per the below plot :-\n",
    "\n",
    "![image-5.png](attachment:image-5.png)\n",
    "\n",
    "This means that EZ Yard is able to retain and stabilize considerable number of customers. <br>\n",
    "\n",
    "<b>Note</b>: We can go for more complex time series modeling for the data rather than simple polynomieal regression , but since there was very less cyclicity/seasonality was observed due to lack of data. <br>\n",
    "    \n",
    "<b>The increase in active customer from Jan-2020 to May-2020</b> seems interesting, but this trend can be considered as 'cold start' , where new customer are exploring and mostly trying out the service for first time. \n",
    "\n"
   ]
  },
  {
   "cell_type": "markdown",
   "metadata": {},
   "source": [
    "Code to generate infor for above inferencing:-"
   ]
  },
  {
   "cell_type": "code",
   "execution_count": 29,
   "metadata": {},
   "outputs": [
    {
     "data": {
      "text/plain": [
       "Text(0.5, 1.0, 'Customers Base')"
      ]
     },
     "execution_count": 29,
     "metadata": {},
     "output_type": "execute_result"
    },
    {
     "data": {
      "image/png": "[encoded data removed]",
      "text/plain": [
       "<Figure size 432x288 with 1 Axes>"
      ]
     },
     "metadata": {
      "needs_background": "light"
     },
     "output_type": "display_data"
    }
   ],
   "source": [
    "# Plotting total number of 'Base Customers' for each month\n",
    "\n",
    "# Fitting a regression line on 'total_customer_till_date'\n",
    "m, b = np.polyfit(result_df.index, result_df['total_customer_till_date'], 1)\n",
    "\n",
    "# Plotting scatter of total_customer_till_date against months\n",
    "sns.regplot(result_df.index,\n",
    "            result_df['total_customer_till_date'],\n",
    "            ci=None,fit_reg=False,\n",
    "            robust=True,\n",
    "            line_kws={\"linestyle\": \"--\",\"color\":\"orange\"})\n",
    "\n",
    "# Plotting Regresion line\n",
    "plt.plot(result_df.index,m*result_df.index+b,linestyle='--')\n",
    "\n",
    "plt.gca().set_xticklabels([x.strftime('%b-%y') for x in result_df['Month']])\n",
    "plt.xticks(rotation=45)\n",
    "plt.gca().set_title('Customers Base')"
   ]
  },
  {
   "cell_type": "markdown",
   "metadata": {},
   "source": [
    "The trend seems pretty much linear"
   ]
  },
  {
   "cell_type": "code",
   "execution_count": 30,
   "metadata": {},
   "outputs": [
    {
     "name": "stdout",
     "output_type": "stream",
     "text": [
      "Total customer count for 2020 : 17477\n"
     ]
    }
   ],
   "source": [
    "# Total customer base for 2020:-\n",
    "print('Total customer count for 2020 :',int(result_df.iloc[0:12,result_df.columns.tolist().index('customers')].sum()))"
   ]
  },
  {
   "cell_type": "code",
   "execution_count": 31,
   "metadata": {},
   "outputs": [
    {
     "name": "stdout",
     "output_type": "stream",
     "text": [
      "Total Customer Base for 2020 : 17477\n",
      "Expected Customer Base for 2021 : 36382\n",
      "% Increase in 2021 : 108 %\n"
     ]
    }
   ],
   "source": [
    "# Calculating total customer base till Dec-2021, using the regression line fitted above\n",
    "total_customers_2021=int(np.round(m*23+b))\n",
    "total_customers_2020=int(result_df.iloc[0:12,result_df.columns.tolist().index('customers')].sum())\n",
    "print('Total Customer Base for 2020 :',total_customers_2020)\n",
    "print('Expected Customer Base for 2021 :',total_customers_2021)\n",
    "print('% Increase in 2021 :',int(np.round(((total_customers_2021-total_customers_2020)/total_customers_2020)*100)),'%')"
   ]
  },
  {
   "cell_type": "code",
   "execution_count": 32,
   "metadata": {},
   "outputs": [
    {
     "data": {
      "text/plain": [
       "<matplotlib.legend.Legend at 0x279bcafe370>"
      ]
     },
     "execution_count": 32,
     "metadata": {},
     "output_type": "execute_result"
    },
    {
     "data": {
      "image/png": "[encoded data removed]",
      "text/plain": [
       "<Figure size 432x288 with 1 Axes>"
      ]
     },
     "metadata": {
      "needs_background": "light"
     },
     "output_type": "display_data"
    }
   ],
   "source": [
    "# Prediction of customers who will be retained\n",
    "\n",
    "a, b,c = np.polyfit(result_df.index, result_df['active_customer_count'], 2)\n",
    "\n",
    "sns.regplot(result_df.index,\n",
    "            result_df['active_customer_count'],\n",
    "            ci=None,fit_reg=False,\n",
    "            robust=True,\n",
    "            line_kws={\"linestyle\": \"--\",\"color\":\"orange\"})\n",
    "plt.plot(result_df.index,a*np.square(result_df.index)+b*result_df.index+c,linestyle='--',label='Trend')\n",
    "plt.gca().set_xticklabels([x.strftime('%b-%y') for x in result_df['Month']])\n",
    "plt.xticks(rotation=45)\n",
    "plt.gca().set_title('Trend analysis for Active Customers')\n",
    "plt.gca().set_ylabel('Active Customers')\n",
    "plt.legend()"
   ]
  },
  {
   "cell_type": "markdown",
   "metadata": {},
   "source": [
    "<h4>5] The January 2021 gain for new customers was a 120% improvement over of January of 2020? </h4> <br>\n",
    "\n",
    "<b>Answer:</b> Yes the same seems correct there has been an increase of 131% of new customers <br>\n",
    "\n",
    "<b>Code:-</b>"
   ]
  },
  {
   "cell_type": "code",
   "execution_count": 33,
   "metadata": {},
   "outputs": [
    {
     "name": "stdout",
     "output_type": "stream",
     "text": [
      "January 2021 Gain for new customers over January 2020: 131 %\n"
     ]
    }
   ],
   "source": [
    "jan_2020=result_df.loc[result_df.Month=='2020-01-01','customers'].values[0]\n",
    "jan_2021=result_df.loc[result_df.Month=='2021-02-01','customers'].values[0]\n",
    "per_incre_jan2020_jan2021=int(np.round(((jan_2021-jan_2020)/jan_2020)*100))\n",
    "print('January 2021 Gain for new customers over January 2020:',per_incre_jan2020_jan2021,'%')"
   ]
  },
  {
   "cell_type": "markdown",
   "metadata": {},
   "source": [
    "<h4> 6] Since January of 2020, EZ Yard has grown its customer base by 1,841%?</h4><br>\n",
    "\n",
    "<b>Answer:</b> Yes there has been a 1943% growth in customer base since January 2020"
   ]
  },
  {
   "cell_type": "code",
   "execution_count": 34,
   "metadata": {},
   "outputs": [
    {
     "name": "stdout",
     "output_type": "stream",
     "text": [
      "Total Customers in January 2020: 1098\n",
      "Total Customer in February 2021: 22430\n",
      "% Increase: 1943\n"
     ]
    }
   ],
   "source": [
    "print('Total Customers in January 2020:',1098)\n",
    "print('Total Customer in February 2021:',22430)\n",
    "print('% Increase:',int(np.round((22430-1098)*100/1098)))"
   ]
  },
  {
   "attachments": {
    "image-3.png": {
     "image/png": "[encoded data removed]"
    }
   },
   "cell_type": "markdown",
   "metadata": {},
   "source": [
    "<h4> 7] EZ Yard boasts a customer retention rate of 58%. </h4><br>\n",
    "\n",
    "<b>Answer:-</b>\n",
    "After analysing the given data we generate the following plot :-\n",
    "![image-3.png](attachment:image-3.png)\n",
    "\n",
    "* Looking at this it does seems that the customer retension rate goes as below as 50%.<br>\n",
    "* On the other hand the trend show a fall in retension rate.\n",
    "\n"
   ]
  },
  {
   "cell_type": "code",
   "execution_count": 35,
   "metadata": {},
   "outputs": [
    {
     "data": {
      "text/plain": [
       "<matplotlib.legend.Legend at 0x279bcb67250>"
      ]
     },
     "execution_count": 35,
     "metadata": {},
     "output_type": "execute_result"
    },
    {
     "data": {
      "image/png": "[encoded data removed]",
      "text/plain": [
       "<Figure size 432x288 with 1 Axes>"
      ]
     },
     "metadata": {
      "needs_background": "light"
     },
     "output_type": "display_data"
    }
   ],
   "source": [
    "# plotting total_retension_per\n",
    "red_df=result_df[['total_retension_per','active_customer_count']].dropna()\n",
    "a,b,c = np.polyfit(red_df.index, red_df['total_retension_per'].values*100, 2)\n",
    "\n",
    "sns.regplot(result_df.index,\n",
    "            result_df['total_retension_per']*100,\n",
    "            ci=None,fit_reg=False,\n",
    "            robust=True)\n",
    "\n",
    "plt.plot(result_df.index,a*np.square(result_df.index)+ b*result_df.index+c,linestyle='--',label='trend')\n",
    "\n",
    "\n",
    "avg_l=np.average(red_df['total_retension_per'],weights=red_df['active_customer_count'])\n",
    "average=int(np.round(avg_l*100,0))\n",
    "plt.axhline(y=average,label='Average:' + str(average) + '%',linestyle='--')\n",
    "plt.gca().set_xticklabels([x.strftime('%b-%y') for x in result_df['Month']])\n",
    "plt.xticks(rotation=45)\n",
    "plt.gca().set_title('Trend analysis for \\n % of Retained Customers')\n",
    "plt.gca().set_ylabel('Custome Retention Rate(%)')\n",
    "\n",
    "plt.legend()"
   ]
  },
  {
   "cell_type": "markdown",
   "metadata": {},
   "source": [
    "<h4>Conclusion:-</h4><br>\n",
    "\n",
    "Pros:-\n",
    "* We might get a Customer base of 22430 customers.\n",
    "* The Customer base seems increasing every month, these customers can be targeted via some maketing campaigns, and can be converted to 'Active Customers'\n",
    "* Most of the information provided in EZ Yard Fact Sheet is correct\n",
    "* EZ Yard does has some skilled 'new service offerings', which has boosted the new customer subscription by 46%. It might be interesting to know what they did and can the same be applied to inactive customers\n",
    "* Active customer in the system also seems showing some what flattend \n",
    "\n",
    "Cons:-\n",
    "* Customer Retention rate show negetive trend over months.<br><br>\n",
    "\n",
    "<b>Yes we can go ahead and acquire EZ Yard,because of the above mentions Pros.</b>"
   ]
  },
  {
   "cell_type": "markdown",
   "metadata": {},
   "source": [
    "<h4>Question 5:Part2: Bonus</h4><br>\n",
    "What other data sources would be helpful in making your recommendation?<br>\n",
    "\n",
    "<b>Answer:-</b><br>\n",
    "* Pricing data of EZ Yard services will be quit helpful to do a profit analysis.\n",
    "* Total Customer Base and Active Customer of Frontdoor might be helpful. On comparing the same with EZ Yard we might get an idea  about ratio of how much % of customer base EZ Yard might add to FrontDoor."
   ]
  }
 ],
 "metadata": {
  "anaconda-cloud": {},
  "kernelspec": {
   "display_name": "Python 3",
   "language": "python",
   "name": "python3"
  },
  "language_info": {
   "codemirror_mode": {
    "name": "ipython",
    "version": 3
   },
   "file_extension": ".py",
   "mimetype": "text/x-python",
   "name": "python",
   "nbconvert_exporter": "python",
   "pygments_lexer": "ipython3",
   "version": "3.8.5"
  }
 },
 "nbformat": 4,
 "nbformat_minor": 4
}
